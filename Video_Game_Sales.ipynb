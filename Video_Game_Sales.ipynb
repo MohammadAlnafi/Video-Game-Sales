{
  "cells": [
    {
      "cell_type": "code",
      "execution_count": null,
      "metadata": {
        "id": "-8DXft25nmf7"
      },
      "outputs": [],
      "source": [
        "import pandas as pd\n",
        "import numpy as np\n",
        "import matplotlib.pyplot as plt\n",
        "%matplotlib inline\n",
        "import seaborn as sns\n",
        "sns.set(style=\"whitegrid\")\n",
        "from sklearn.preprocessing import LabelEncoder\n",
        "from sklearn.model_selection import train_test_split\n",
        "import warnings\n",
        "warnings.filterwarnings('ignore')"
      ]
    },
    {
      "cell_type": "code",
      "execution_count": null,
      "metadata": {
        "colab": {
          "base_uri": "https://localhost:8080/",
          "height": 250
        },
        "id": "aQxvQqCySkB_",
        "outputId": "20c5ff87-3bdb-48e5-cb63-722ba7e1cdfb"
      },
      "outputs": [
        {
          "output_type": "execute_result",
          "data": {
            "text/plain": [
              "                       Name Platform       Year         Genre Publisher  \\\n",
              "0                Wii Sports      Wii 2006-01-01        Sports  Nintendo   \n",
              "1         Super Mario Bros.      NES 1985-01-01      Platform  Nintendo   \n",
              "2            Mario Kart Wii      Wii 2008-01-01        Racing  Nintendo   \n",
              "3         Wii Sports Resort      Wii 2009-01-01        Sports  Nintendo   \n",
              "4  Pokemon Red/Pokemon Blue       GB 1996-01-01  Role-Playing  Nintendo   \n",
              "\n",
              "   NA_Sales  EU_Sales  JP_Sales  Other_Sales  Global_Sales  \n",
              "0     41.49     29.02      3.77         8.46         82.74  \n",
              "1     29.08      3.58      6.81         0.77         40.24  \n",
              "2     15.85     12.88      3.79         3.31         35.82  \n",
              "3     15.75     11.01      3.28         2.96         33.00  \n",
              "4     11.27      8.89     10.22         1.00         31.37  "
            ],
            "text/html": [
              "\n",
              "  <div id=\"df-df8c7b37-fc6a-49e8-b11e-457ad0548f15\">\n",
              "    <div class=\"colab-df-container\">\n",
              "      <div>\n",
              "<style scoped>\n",
              "    .dataframe tbody tr th:only-of-type {\n",
              "        vertical-align: middle;\n",
              "    }\n",
              "\n",
              "    .dataframe tbody tr th {\n",
              "        vertical-align: top;\n",
              "    }\n",
              "\n",
              "    .dataframe thead th {\n",
              "        text-align: right;\n",
              "    }\n",
              "</style>\n",
              "<table border=\"1\" class=\"dataframe\">\n",
              "  <thead>\n",
              "    <tr style=\"text-align: right;\">\n",
              "      <th></th>\n",
              "      <th>Name</th>\n",
              "      <th>Platform</th>\n",
              "      <th>Year</th>\n",
              "      <th>Genre</th>\n",
              "      <th>Publisher</th>\n",
              "      <th>NA_Sales</th>\n",
              "      <th>EU_Sales</th>\n",
              "      <th>JP_Sales</th>\n",
              "      <th>Other_Sales</th>\n",
              "      <th>Global_Sales</th>\n",
              "    </tr>\n",
              "  </thead>\n",
              "  <tbody>\n",
              "    <tr>\n",
              "      <th>0</th>\n",
              "      <td>Wii Sports</td>\n",
              "      <td>Wii</td>\n",
              "      <td>2006-01-01</td>\n",
              "      <td>Sports</td>\n",
              "      <td>Nintendo</td>\n",
              "      <td>41.49</td>\n",
              "      <td>29.02</td>\n",
              "      <td>3.77</td>\n",
              "      <td>8.46</td>\n",
              "      <td>82.74</td>\n",
              "    </tr>\n",
              "    <tr>\n",
              "      <th>1</th>\n",
              "      <td>Super Mario Bros.</td>\n",
              "      <td>NES</td>\n",
              "      <td>1985-01-01</td>\n",
              "      <td>Platform</td>\n",
              "      <td>Nintendo</td>\n",
              "      <td>29.08</td>\n",
              "      <td>3.58</td>\n",
              "      <td>6.81</td>\n",
              "      <td>0.77</td>\n",
              "      <td>40.24</td>\n",
              "    </tr>\n",
              "    <tr>\n",
              "      <th>2</th>\n",
              "      <td>Mario Kart Wii</td>\n",
              "      <td>Wii</td>\n",
              "      <td>2008-01-01</td>\n",
              "      <td>Racing</td>\n",
              "      <td>Nintendo</td>\n",
              "      <td>15.85</td>\n",
              "      <td>12.88</td>\n",
              "      <td>3.79</td>\n",
              "      <td>3.31</td>\n",
              "      <td>35.82</td>\n",
              "    </tr>\n",
              "    <tr>\n",
              "      <th>3</th>\n",
              "      <td>Wii Sports Resort</td>\n",
              "      <td>Wii</td>\n",
              "      <td>2009-01-01</td>\n",
              "      <td>Sports</td>\n",
              "      <td>Nintendo</td>\n",
              "      <td>15.75</td>\n",
              "      <td>11.01</td>\n",
              "      <td>3.28</td>\n",
              "      <td>2.96</td>\n",
              "      <td>33.00</td>\n",
              "    </tr>\n",
              "    <tr>\n",
              "      <th>4</th>\n",
              "      <td>Pokemon Red/Pokemon Blue</td>\n",
              "      <td>GB</td>\n",
              "      <td>1996-01-01</td>\n",
              "      <td>Role-Playing</td>\n",
              "      <td>Nintendo</td>\n",
              "      <td>11.27</td>\n",
              "      <td>8.89</td>\n",
              "      <td>10.22</td>\n",
              "      <td>1.00</td>\n",
              "      <td>31.37</td>\n",
              "    </tr>\n",
              "  </tbody>\n",
              "</table>\n",
              "</div>\n",
              "      <button class=\"colab-df-convert\" onclick=\"convertToInteractive('df-df8c7b37-fc6a-49e8-b11e-457ad0548f15')\"\n",
              "              title=\"Convert this dataframe to an interactive table.\"\n",
              "              style=\"display:none;\">\n",
              "        \n",
              "  <svg xmlns=\"http://www.w3.org/2000/svg\" height=\"24px\"viewBox=\"0 0 24 24\"\n",
              "       width=\"24px\">\n",
              "    <path d=\"M0 0h24v24H0V0z\" fill=\"none\"/>\n",
              "    <path d=\"M18.56 5.44l.94 2.06.94-2.06 2.06-.94-2.06-.94-.94-2.06-.94 2.06-2.06.94zm-11 1L8.5 8.5l.94-2.06 2.06-.94-2.06-.94L8.5 2.5l-.94 2.06-2.06.94zm10 10l.94 2.06.94-2.06 2.06-.94-2.06-.94-.94-2.06-.94 2.06-2.06.94z\"/><path d=\"M17.41 7.96l-1.37-1.37c-.4-.4-.92-.59-1.43-.59-.52 0-1.04.2-1.43.59L10.3 9.45l-7.72 7.72c-.78.78-.78 2.05 0 2.83L4 21.41c.39.39.9.59 1.41.59.51 0 1.02-.2 1.41-.59l7.78-7.78 2.81-2.81c.8-.78.8-2.07 0-2.86zM5.41 20L4 18.59l7.72-7.72 1.47 1.35L5.41 20z\"/>\n",
              "  </svg>\n",
              "      </button>\n",
              "      \n",
              "  <style>\n",
              "    .colab-df-container {\n",
              "      display:flex;\n",
              "      flex-wrap:wrap;\n",
              "      gap: 12px;\n",
              "    }\n",
              "\n",
              "    .colab-df-convert {\n",
              "      background-color: #E8F0FE;\n",
              "      border: none;\n",
              "      border-radius: 50%;\n",
              "      cursor: pointer;\n",
              "      display: none;\n",
              "      fill: #1967D2;\n",
              "      height: 32px;\n",
              "      padding: 0 0 0 0;\n",
              "      width: 32px;\n",
              "    }\n",
              "\n",
              "    .colab-df-convert:hover {\n",
              "      background-color: #E2EBFA;\n",
              "      box-shadow: 0px 1px 2px rgba(60, 64, 67, 0.3), 0px 1px 3px 1px rgba(60, 64, 67, 0.15);\n",
              "      fill: #174EA6;\n",
              "    }\n",
              "\n",
              "    [theme=dark] .colab-df-convert {\n",
              "      background-color: #3B4455;\n",
              "      fill: #D2E3FC;\n",
              "    }\n",
              "\n",
              "    [theme=dark] .colab-df-convert:hover {\n",
              "      background-color: #434B5C;\n",
              "      box-shadow: 0px 1px 3px 1px rgba(0, 0, 0, 0.15);\n",
              "      filter: drop-shadow(0px 1px 2px rgba(0, 0, 0, 0.3));\n",
              "      fill: #FFFFFF;\n",
              "    }\n",
              "  </style>\n",
              "\n",
              "      <script>\n",
              "        const buttonEl =\n",
              "          document.querySelector('#df-df8c7b37-fc6a-49e8-b11e-457ad0548f15 button.colab-df-convert');\n",
              "        buttonEl.style.display =\n",
              "          google.colab.kernel.accessAllowed ? 'block' : 'none';\n",
              "\n",
              "        async function convertToInteractive(key) {\n",
              "          const element = document.querySelector('#df-df8c7b37-fc6a-49e8-b11e-457ad0548f15');\n",
              "          const dataTable =\n",
              "            await google.colab.kernel.invokeFunction('convertToInteractive',\n",
              "                                                     [key], {});\n",
              "          if (!dataTable) return;\n",
              "\n",
              "          const docLinkHtml = 'Like what you see? Visit the ' +\n",
              "            '<a target=\"_blank\" href=https://colab.research.google.com/notebooks/data_table.ipynb>data table notebook</a>'\n",
              "            + ' to learn more about interactive tables.';\n",
              "          element.innerHTML = '';\n",
              "          dataTable['output_type'] = 'display_data';\n",
              "          await google.colab.output.renderOutput(dataTable, element);\n",
              "          const docLink = document.createElement('div');\n",
              "          docLink.innerHTML = docLinkHtml;\n",
              "          element.appendChild(docLink);\n",
              "        }\n",
              "      </script>\n",
              "    </div>\n",
              "  </div>\n",
              "  "
            ]
          },
          "metadata": {},
          "execution_count": 2
        }
      ],
      "source": [
        "# Import Libraries\n",
        "import pandas as pd\n",
        "#----------------------------------------------------\n",
        "#reading data\n",
        "data = pd.read_csv('Video-Game-Sales.csv',parse_dates=[\"Year\"])\n",
        "data.drop(\"Rank\", axis =1, inplace = True)\n",
        "\n",
        "#data.describe()\n",
        "\n",
        "data.head()\n",
        "# data.info()"
      ]
    },
    {
      "cell_type": "code",
      "source": [
        "data.info()"
      ],
      "metadata": {
        "colab": {
          "base_uri": "https://localhost:8080/"
        },
        "id": "hKM5UTuedjGp",
        "outputId": "28f7b363-994d-4c8f-cd73-465281e7ac95"
      },
      "execution_count": null,
      "outputs": [
        {
          "output_type": "stream",
          "name": "stdout",
          "text": [
            "<class 'pandas.core.frame.DataFrame'>\n",
            "RangeIndex: 16598 entries, 0 to 16597\n",
            "Data columns (total 10 columns):\n",
            " #   Column        Non-Null Count  Dtype         \n",
            "---  ------        --------------  -----         \n",
            " 0   Name          16598 non-null  object        \n",
            " 1   Platform      16598 non-null  object        \n",
            " 2   Year          16327 non-null  datetime64[ns]\n",
            " 3   Genre         16598 non-null  object        \n",
            " 4   Publisher     16540 non-null  object        \n",
            " 5   NA_Sales      16598 non-null  float64       \n",
            " 6   EU_Sales      16598 non-null  float64       \n",
            " 7   JP_Sales      16598 non-null  float64       \n",
            " 8   Other_Sales   16598 non-null  float64       \n",
            " 9   Global_Sales  16598 non-null  float64       \n",
            "dtypes: datetime64[ns](1), float64(5), object(4)\n",
            "memory usage: 1.3+ MB\n"
          ]
        }
      ]
    },
    {
      "cell_type": "code",
      "source": [
        "data.describe()"
      ],
      "metadata": {
        "id": "ykoq0MNQ-2jg",
        "colab": {
          "base_uri": "https://localhost:8080/",
          "height": 300
        },
        "outputId": "5b9d86bc-d435-438a-c0e5-de8d4b4389d3"
      },
      "execution_count": null,
      "outputs": [
        {
          "output_type": "execute_result",
          "data": {
            "text/plain": [
              "           NA_Sales      EU_Sales      JP_Sales   Other_Sales  Global_Sales\n",
              "count  16598.000000  16598.000000  16598.000000  16598.000000  16598.000000\n",
              "mean       0.264667      0.146652      0.077782      0.048063      0.537441\n",
              "std        0.816683      0.505351      0.309291      0.188588      1.555028\n",
              "min        0.000000      0.000000      0.000000      0.000000      0.010000\n",
              "25%        0.000000      0.000000      0.000000      0.000000      0.060000\n",
              "50%        0.080000      0.020000      0.000000      0.010000      0.170000\n",
              "75%        0.240000      0.110000      0.040000      0.040000      0.470000\n",
              "max       41.490000     29.020000     10.220000     10.570000     82.740000"
            ],
            "text/html": [
              "\n",
              "  <div id=\"df-f237bd08-8547-4c64-8dbb-78881a0f6a5f\">\n",
              "    <div class=\"colab-df-container\">\n",
              "      <div>\n",
              "<style scoped>\n",
              "    .dataframe tbody tr th:only-of-type {\n",
              "        vertical-align: middle;\n",
              "    }\n",
              "\n",
              "    .dataframe tbody tr th {\n",
              "        vertical-align: top;\n",
              "    }\n",
              "\n",
              "    .dataframe thead th {\n",
              "        text-align: right;\n",
              "    }\n",
              "</style>\n",
              "<table border=\"1\" class=\"dataframe\">\n",
              "  <thead>\n",
              "    <tr style=\"text-align: right;\">\n",
              "      <th></th>\n",
              "      <th>NA_Sales</th>\n",
              "      <th>EU_Sales</th>\n",
              "      <th>JP_Sales</th>\n",
              "      <th>Other_Sales</th>\n",
              "      <th>Global_Sales</th>\n",
              "    </tr>\n",
              "  </thead>\n",
              "  <tbody>\n",
              "    <tr>\n",
              "      <th>count</th>\n",
              "      <td>16598.000000</td>\n",
              "      <td>16598.000000</td>\n",
              "      <td>16598.000000</td>\n",
              "      <td>16598.000000</td>\n",
              "      <td>16598.000000</td>\n",
              "    </tr>\n",
              "    <tr>\n",
              "      <th>mean</th>\n",
              "      <td>0.264667</td>\n",
              "      <td>0.146652</td>\n",
              "      <td>0.077782</td>\n",
              "      <td>0.048063</td>\n",
              "      <td>0.537441</td>\n",
              "    </tr>\n",
              "    <tr>\n",
              "      <th>std</th>\n",
              "      <td>0.816683</td>\n",
              "      <td>0.505351</td>\n",
              "      <td>0.309291</td>\n",
              "      <td>0.188588</td>\n",
              "      <td>1.555028</td>\n",
              "    </tr>\n",
              "    <tr>\n",
              "      <th>min</th>\n",
              "      <td>0.000000</td>\n",
              "      <td>0.000000</td>\n",
              "      <td>0.000000</td>\n",
              "      <td>0.000000</td>\n",
              "      <td>0.010000</td>\n",
              "    </tr>\n",
              "    <tr>\n",
              "      <th>25%</th>\n",
              "      <td>0.000000</td>\n",
              "      <td>0.000000</td>\n",
              "      <td>0.000000</td>\n",
              "      <td>0.000000</td>\n",
              "      <td>0.060000</td>\n",
              "    </tr>\n",
              "    <tr>\n",
              "      <th>50%</th>\n",
              "      <td>0.080000</td>\n",
              "      <td>0.020000</td>\n",
              "      <td>0.000000</td>\n",
              "      <td>0.010000</td>\n",
              "      <td>0.170000</td>\n",
              "    </tr>\n",
              "    <tr>\n",
              "      <th>75%</th>\n",
              "      <td>0.240000</td>\n",
              "      <td>0.110000</td>\n",
              "      <td>0.040000</td>\n",
              "      <td>0.040000</td>\n",
              "      <td>0.470000</td>\n",
              "    </tr>\n",
              "    <tr>\n",
              "      <th>max</th>\n",
              "      <td>41.490000</td>\n",
              "      <td>29.020000</td>\n",
              "      <td>10.220000</td>\n",
              "      <td>10.570000</td>\n",
              "      <td>82.740000</td>\n",
              "    </tr>\n",
              "  </tbody>\n",
              "</table>\n",
              "</div>\n",
              "      <button class=\"colab-df-convert\" onclick=\"convertToInteractive('df-f237bd08-8547-4c64-8dbb-78881a0f6a5f')\"\n",
              "              title=\"Convert this dataframe to an interactive table.\"\n",
              "              style=\"display:none;\">\n",
              "        \n",
              "  <svg xmlns=\"http://www.w3.org/2000/svg\" height=\"24px\"viewBox=\"0 0 24 24\"\n",
              "       width=\"24px\">\n",
              "    <path d=\"M0 0h24v24H0V0z\" fill=\"none\"/>\n",
              "    <path d=\"M18.56 5.44l.94 2.06.94-2.06 2.06-.94-2.06-.94-.94-2.06-.94 2.06-2.06.94zm-11 1L8.5 8.5l.94-2.06 2.06-.94-2.06-.94L8.5 2.5l-.94 2.06-2.06.94zm10 10l.94 2.06.94-2.06 2.06-.94-2.06-.94-.94-2.06-.94 2.06-2.06.94z\"/><path d=\"M17.41 7.96l-1.37-1.37c-.4-.4-.92-.59-1.43-.59-.52 0-1.04.2-1.43.59L10.3 9.45l-7.72 7.72c-.78.78-.78 2.05 0 2.83L4 21.41c.39.39.9.59 1.41.59.51 0 1.02-.2 1.41-.59l7.78-7.78 2.81-2.81c.8-.78.8-2.07 0-2.86zM5.41 20L4 18.59l7.72-7.72 1.47 1.35L5.41 20z\"/>\n",
              "  </svg>\n",
              "      </button>\n",
              "      \n",
              "  <style>\n",
              "    .colab-df-container {\n",
              "      display:flex;\n",
              "      flex-wrap:wrap;\n",
              "      gap: 12px;\n",
              "    }\n",
              "\n",
              "    .colab-df-convert {\n",
              "      background-color: #E8F0FE;\n",
              "      border: none;\n",
              "      border-radius: 50%;\n",
              "      cursor: pointer;\n",
              "      display: none;\n",
              "      fill: #1967D2;\n",
              "      height: 32px;\n",
              "      padding: 0 0 0 0;\n",
              "      width: 32px;\n",
              "    }\n",
              "\n",
              "    .colab-df-convert:hover {\n",
              "      background-color: #E2EBFA;\n",
              "      box-shadow: 0px 1px 2px rgba(60, 64, 67, 0.3), 0px 1px 3px 1px rgba(60, 64, 67, 0.15);\n",
              "      fill: #174EA6;\n",
              "    }\n",
              "\n",
              "    [theme=dark] .colab-df-convert {\n",
              "      background-color: #3B4455;\n",
              "      fill: #D2E3FC;\n",
              "    }\n",
              "\n",
              "    [theme=dark] .colab-df-convert:hover {\n",
              "      background-color: #434B5C;\n",
              "      box-shadow: 0px 1px 3px 1px rgba(0, 0, 0, 0.15);\n",
              "      filter: drop-shadow(0px 1px 2px rgba(0, 0, 0, 0.3));\n",
              "      fill: #FFFFFF;\n",
              "    }\n",
              "  </style>\n",
              "\n",
              "      <script>\n",
              "        const buttonEl =\n",
              "          document.querySelector('#df-f237bd08-8547-4c64-8dbb-78881a0f6a5f button.colab-df-convert');\n",
              "        buttonEl.style.display =\n",
              "          google.colab.kernel.accessAllowed ? 'block' : 'none';\n",
              "\n",
              "        async function convertToInteractive(key) {\n",
              "          const element = document.querySelector('#df-f237bd08-8547-4c64-8dbb-78881a0f6a5f');\n",
              "          const dataTable =\n",
              "            await google.colab.kernel.invokeFunction('convertToInteractive',\n",
              "                                                     [key], {});\n",
              "          if (!dataTable) return;\n",
              "\n",
              "          const docLinkHtml = 'Like what you see? Visit the ' +\n",
              "            '<a target=\"_blank\" href=https://colab.research.google.com/notebooks/data_table.ipynb>data table notebook</a>'\n",
              "            + ' to learn more about interactive tables.';\n",
              "          element.innerHTML = '';\n",
              "          dataTable['output_type'] = 'display_data';\n",
              "          await google.colab.output.renderOutput(dataTable, element);\n",
              "          const docLink = document.createElement('div');\n",
              "          docLink.innerHTML = docLinkHtml;\n",
              "          element.appendChild(docLink);\n",
              "        }\n",
              "      </script>\n",
              "    </div>\n",
              "  </div>\n",
              "  "
            ]
          },
          "metadata": {},
          "execution_count": 4
        }
      ]
    },
    {
      "cell_type": "code",
      "source": [
        "import matplotlib.pyplot as plt\n",
        "import seaborn as sns\n",
        "\n",
        "#get correlations of each features in dataset\n",
        "corrmat = data.corr()\n",
        "top_corr_features = corrmat.index\n",
        "plt.figure(figsize=(20,20))\n",
        "#plot heat map\n",
        "g=sns.heatmap(data[top_corr_features].corr(),annot=True,cmap=\"RdYlGn\")"
      ],
      "metadata": {
        "colab": {
          "base_uri": "https://localhost:8080/",
          "height": 1000
        },
        "id": "acfk-oFBdtCh",
        "outputId": "f4576d1c-18ab-47ab-bfb6-87723010f001"
      },
      "execution_count": null,
      "outputs": [
        {
          "output_type": "display_data",
          "data": {
            "text/plain": [
              "<Figure size 1440x1440 with 2 Axes>"
            ],
            "image/png": "[encoded data removed]"
          },
          "metadata": {
            "needs_background": "light"
          }
        }
      ]
    },
    {
      "cell_type": "code",
      "source": [
        "from scipy import stats\n",
        "stats.probplot(data[\"Global_Sales\"], plot = plt);"
      ],
      "metadata": {
        "colab": {
          "base_uri": "https://localhost:8080/",
          "height": 301
        },
        "id": "-FCcTSgwd3sD",
        "outputId": "c370fa73-ac7c-45e7-addd-d1efd3b559d9"
      },
      "execution_count": null,
      "outputs": [
        {
          "output_type": "display_data",
          "data": {
            "text/plain": [
              "<Figure size 432x288 with 1 Axes>"
            ],
            "image/png": "[encoded data removed]"
          },
          "metadata": {
            "needs_background": "light"
          }
        }
      ]
    },
    {
      "cell_type": "code",
      "source": [
        "data[\"Global_Sales\"] = np.log(data[\"Global_Sales\"])\n",
        "stats.probplot(data[\"Global_Sales\"], plot = plt);"
      ],
      "metadata": {
        "colab": {
          "base_uri": "https://localhost:8080/",
          "height": 301
        },
        "id": "TGkFcE9keg43",
        "outputId": "f7a2a089-26e9-4152-9cef-52ee69e74343"
      },
      "execution_count": null,
      "outputs": [
        {
          "output_type": "display_data",
          "data": {
            "text/plain": [
              "<Figure size 432x288 with 1 Axes>"
            ],
            "image/png": "[encoded data removed]"
          },
          "metadata": {
            "needs_background": "light"
          }
        }
      ]
    },
    {
      "cell_type": "code",
      "source": [
        "numerical_features = data.select_dtypes(exclude = [\"object\"]).columns\n",
        "\n",
        "df1 = pd.read_csv('Video-Game-Sales.csv',usecols=['Year', 'NA_Sales', 'EU_Sales', 'JP_Sales', 'Other_Sales',\n",
        "       'Global_Sales'])\n",
        "\n",
        "for column in df1.columns[:-1]:\n",
        "    plt.figure(figsize=(10, 5))\n",
        "    sns.boxplot(df1[column])\n",
        "    plt.title('Box plot of {}'.format(column), fontsize=20)"
      ],
      "metadata": {
        "colab": {
          "base_uri": "https://localhost:8080/",
          "height": 1000
        },
        "id": "oPX5cvxugD24",
        "outputId": "50d27ff5-7ca3-484c-80cc-6417af1b0800"
      },
      "execution_count": null,
      "outputs": [
        {
          "output_type": "display_data",
          "data": {
            "text/plain": [
              "<Figure size 720x360 with 1 Axes>"
            ],
            "image/png": "[encoded data removed]"
          },
          "metadata": {
            "needs_background": "light"
          }
        },
        {
          "output_type": "display_data",
          "data": {
            "text/plain": [
              "<Figure size 720x360 with 1 Axes>"
            ],
            "image/png": "[encoded data removed]"
          },
          "metadata": {
            "needs_background": "light"
          }
        },
        {
          "output_type": "display_data",
          "data": {
            "text/plain": [
              "<Figure size 720x360 with 1 Axes>"
            ],
            "image/png": "[encoded data removed]"
          },
          "metadata": {
            "needs_background": "light"
          }
        },
        {
          "output_type": "display_data",
          "data": {
            "text/plain": [
              "<Figure size 720x360 with 1 Axes>"
            ],
            "image/png": "[encoded data removed]"
          },
          "metadata": {
            "needs_background": "light"
          }
        },
        {
          "output_type": "display_data",
          "data": {
            "text/plain": [
              "<Figure size 720x360 with 1 Axes>"
            ],
            "image/png": "[encoded data removed]"
          },
          "metadata": {
            "needs_background": "light"
          }
        }
      ]
    },
    {
      "cell_type": "code",
      "source": [
        "for column in df1.columns[:-1]:\n",
        "    plt.figure(figsize=(10, 5))\n",
        "    sns.histplot(df1[column], kde=True)\n",
        "    plt.xlabel(column, fontsize=15)\n",
        "    plt.ylabel('count', fontsize=15)\n",
        "    plt.title('Histogram plot of {}'.format(column), fontsize=20)\n"
      ],
      "metadata": {
        "colab": {
          "base_uri": "https://localhost:8080/",
          "height": 1000
        },
        "id": "I69jcvESg-yC",
        "outputId": "5bb3dcc2-2e88-4a09-896a-717b74332df3"
      },
      "execution_count": null,
      "outputs": [
        {
          "output_type": "display_data",
          "data": {
            "text/plain": [
              "<Figure size 720x360 with 1 Axes>"
            ],
            "image/png": "[encoded data removed]"
          },
          "metadata": {
            "needs_background": "light"
          }
        },
        {
          "output_type": "display_data",
          "data": {
            "text/plain": [
              "<Figure size 720x360 with 1 Axes>"
            ],
            "image/png": "[encoded data removed]"
          },
          "metadata": {
            "needs_background": "light"
          }
        },
        {
          "output_type": "display_data",
          "data": {
            "text/plain": [
              "<Figure size 720x360 with 1 Axes>"
            ],
            "image/png": "[encoded data removed]"
          },
          "metadata": {
            "needs_background": "light"
          }
        },
        {
          "output_type": "display_data",
          "data": {
            "text/plain": [
              "<Figure size 720x360 with 1 Axes>"
            ],
            "image/png": "[encoded data removed]"
          },
          "metadata": {
            "needs_background": "light"
          }
        },
        {
          "output_type": "display_data",
          "data": {
            "text/plain": [
              "<Figure size 720x360 with 1 Axes>"
            ],
            "image/png": "[encoded data removed]"
          },
          "metadata": {
            "needs_background": "light"
          }
        }
      ]
    },
    {
      "cell_type": "code",
      "source": [
        "sns.distplot(data['Global_Sales'])"
      ],
      "metadata": {
        "colab": {
          "base_uri": "https://localhost:8080/",
          "height": 302
        },
        "id": "Si0KQo8AhLJs",
        "outputId": "f69fff15-3d59-4779-9e1b-8bd177acc91b"
      },
      "execution_count": null,
      "outputs": [
        {
          "output_type": "execute_result",
          "data": {
            "text/plain": [
              "<matplotlib.axes._subplots.AxesSubplot at 0x7f8029d79f10>"
            ]
          },
          "metadata": {},
          "execution_count": 16
        },
        {
          "output_type": "display_data",
          "data": {
            "text/plain": [
              "<Figure size 432x288 with 1 Axes>"
            ],
            "image/png": "[encoded data removed]"
          },
          "metadata": {
            "needs_background": "light"
          }
        }
      ]
    },
    {
      "cell_type": "code",
      "source": [
        "## Numerical variables are usually of 2 type\n",
        "## 1. Continous variable and Discrete Variables\n",
        "\n",
        "discrete_feature=[feature for feature in numerical_features if len(data[feature].unique())<25 and feature ]\n",
        "print(\"Discrete Variables Count: {}\".format(len(discrete_feature)))\n",
        "\n",
        "## Lets Find the realtionship between them and Y\n",
        "\n",
        "for feature in discrete_feature:\n",
        "    data=data.copy()\n",
        "    data.groupby(feature)['Global_Sales'].median().plot.bar()\n",
        "    plt.xlabel(feature)\n",
        "    plt.ylabel('Global_Sales')\n",
        "    plt.title(feature)\n",
        "    plt.show()"
      ],
      "metadata": {
        "colab": {
          "base_uri": "https://localhost:8080/"
        },
        "id": "w8vmJ1NLhi_t",
        "outputId": "14c4fc15-a58c-4b7a-edcb-c99ddf2effde"
      },
      "execution_count": null,
      "outputs": [
        {
          "output_type": "stream",
          "name": "stdout",
          "text": [
            "Discrete Variables Count: 0\n"
          ]
        }
      ]
    },
    {
      "cell_type": "code",
      "source": [
        "continuous_feature=[feature for feature in numerical_features if feature not in discrete_feature ]\n",
        "\n",
        "## Lets analyse the continuous values by creating histograms to understand the distribution\n",
        "\n",
        "for feature in continuous_feature:\n",
        "    data=data.copy()\n",
        "    data[feature].hist(bins=25)\n",
        "    plt.xlabel(feature)\n",
        "    plt.ylabel(\"Count\")\n",
        "    plt.title(feature)\n",
        "    plt.show()\n"
      ],
      "metadata": {
        "colab": {
          "base_uri": "https://localhost:8080/",
          "height": 1000
        },
        "id": "1LSW3hj7h9dq",
        "outputId": "9c954620-7ecf-483d-cd23-ea3451cf25b8"
      },
      "execution_count": null,
      "outputs": [
        {
          "output_type": "display_data",
          "data": {
            "text/plain": [
              "<Figure size 432x288 with 1 Axes>"
            ],
            "image/png": "[encoded data removed]"
          },
          "metadata": {
            "needs_background": "light"
          }
        },
        {
          "output_type": "display_data",
          "data": {
            "text/plain": [
              "<Figure size 432x288 with 1 Axes>"
            ],
            "image/png": "[encoded data removed]"
          },
          "metadata": {
            "needs_background": "light"
          }
        },
        {
          "output_type": "display_data",
          "data": {
            "text/plain": [
              "<Figure size 432x288 with 1 Axes>"
            ],
            "image/png": "[encoded data removed]"
          },
          "metadata": {
            "needs_background": "light"
          }
        },
        {
          "output_type": "display_data",
          "data": {
            "text/plain": [
              "<Figure size 432x288 with 1 Axes>"
            ],
            "image/png": "[encoded data removed]"
          },
          "metadata": {
            "needs_background": "light"
          }
        },
        {
          "output_type": "display_data",
          "data": {
            "text/plain": [
              "<Figure size 432x288 with 1 Axes>"
            ],
            "image/png": "[encoded data removed]"
          },
          "metadata": {
            "needs_background": "light"
          }
        },
        {
          "output_type": "display_data",
          "data": {
            "text/plain": [
              "<Figure size 432x288 with 1 Axes>"
            ],
            "image/png": "[encoded data removed]"
          },
          "metadata": {
            "needs_background": "light"
          }
        }
      ]
    },
    {
      "cell_type": "code",
      "source": [
        "def count_unique_values(data):\n",
        "    \n",
        "    total = data.count()\n",
        "    temp = pd.DataFrame(total)\n",
        "    temp.columns = ['Total']            # Count total number of non-null values\n",
        "    \n",
        "    uniques = []\n",
        "    for col in data.columns:\n",
        "        unique = data[col].nunique()    # Get unique values for each column\n",
        "        uniques.append(unique)\n",
        "    temp['Uniques'] = uniques\n",
        "    \n",
        "    return(np.transpose(temp))\n",
        "count_unique_values(data)"
      ],
      "metadata": {
        "colab": {
          "base_uri": "https://localhost:8080/",
          "height": 112
        },
        "id": "3cV8H_wGkCO3",
        "outputId": "5f6ecdc3-3214-464e-cc2e-f2b7f3fc3ec3"
      },
      "execution_count": null,
      "outputs": [
        {
          "output_type": "execute_result",
          "data": {
            "text/plain": [
              "          Name  Platform   Year  Genre  Publisher  NA_Sales  EU_Sales  \\\n",
              "Total    16598     16598  16327  16598      16540     16598     16598   \n",
              "Uniques  11493        31     39     12        578       409       305   \n",
              "\n",
              "         JP_Sales  Other_Sales  Global_Sales  \n",
              "Total       16598        16598         16598  \n",
              "Uniques       244          157           623  "
            ],
            "text/html": [
              "\n",
              "  <div id=\"df-bdd8ca6b-0ccc-4f67-858b-1ed4e1277771\">\n",
              "    <div class=\"colab-df-container\">\n",
              "      <div>\n",
              "<style scoped>\n",
              "    .dataframe tbody tr th:only-of-type {\n",
              "        vertical-align: middle;\n",
              "    }\n",
              "\n",
              "    .dataframe tbody tr th {\n",
              "        vertical-align: top;\n",
              "    }\n",
              "\n",
              "    .dataframe thead th {\n",
              "        text-align: right;\n",
              "    }\n",
              "</style>\n",
              "<table border=\"1\" class=\"dataframe\">\n",
              "  <thead>\n",
              "    <tr style=\"text-align: right;\">\n",
              "      <th></th>\n",
              "      <th>Name</th>\n",
              "      <th>Platform</th>\n",
              "      <th>Year</th>\n",
              "      <th>Genre</th>\n",
              "      <th>Publisher</th>\n",
              "      <th>NA_Sales</th>\n",
              "      <th>EU_Sales</th>\n",
              "      <th>JP_Sales</th>\n",
              "      <th>Other_Sales</th>\n",
              "      <th>Global_Sales</th>\n",
              "    </tr>\n",
              "  </thead>\n",
              "  <tbody>\n",
              "    <tr>\n",
              "      <th>Total</th>\n",
              "      <td>16598</td>\n",
              "      <td>16598</td>\n",
              "      <td>16327</td>\n",
              "      <td>16598</td>\n",
              "      <td>16540</td>\n",
              "      <td>16598</td>\n",
              "      <td>16598</td>\n",
              "      <td>16598</td>\n",
              "      <td>16598</td>\n",
              "      <td>16598</td>\n",
              "    </tr>\n",
              "    <tr>\n",
              "      <th>Uniques</th>\n",
              "      <td>11493</td>\n",
              "      <td>31</td>\n",
              "      <td>39</td>\n",
              "      <td>12</td>\n",
              "      <td>578</td>\n",
              "      <td>409</td>\n",
              "      <td>305</td>\n",
              "      <td>244</td>\n",
              "      <td>157</td>\n",
              "      <td>623</td>\n",
              "    </tr>\n",
              "  </tbody>\n",
              "</table>\n",
              "</div>\n",
              "      <button class=\"colab-df-convert\" onclick=\"convertToInteractive('df-bdd8ca6b-0ccc-4f67-858b-1ed4e1277771')\"\n",
              "              title=\"Convert this dataframe to an interactive table.\"\n",
              "              style=\"display:none;\">\n",
              "        \n",
              "  <svg xmlns=\"http://www.w3.org/2000/svg\" height=\"24px\"viewBox=\"0 0 24 24\"\n",
              "       width=\"24px\">\n",
              "    <path d=\"M0 0h24v24H0V0z\" fill=\"none\"/>\n",
              "    <path d=\"M18.56 5.44l.94 2.06.94-2.06 2.06-.94-2.06-.94-.94-2.06-.94 2.06-2.06.94zm-11 1L8.5 8.5l.94-2.06 2.06-.94-2.06-.94L8.5 2.5l-.94 2.06-2.06.94zm10 10l.94 2.06.94-2.06 2.06-.94-2.06-.94-.94-2.06-.94 2.06-2.06.94z\"/><path d=\"M17.41 7.96l-1.37-1.37c-.4-.4-.92-.59-1.43-.59-.52 0-1.04.2-1.43.59L10.3 9.45l-7.72 7.72c-.78.78-.78 2.05 0 2.83L4 21.41c.39.39.9.59 1.41.59.51 0 1.02-.2 1.41-.59l7.78-7.78 2.81-2.81c.8-.78.8-2.07 0-2.86zM5.41 20L4 18.59l7.72-7.72 1.47 1.35L5.41 20z\"/>\n",
              "  </svg>\n",
              "      </button>\n",
              "      \n",
              "  <style>\n",
              "    .colab-df-container {\n",
              "      display:flex;\n",
              "      flex-wrap:wrap;\n",
              "      gap: 12px;\n",
              "    }\n",
              "\n",
              "    .colab-df-convert {\n",
              "      background-color: #E8F0FE;\n",
              "      border: none;\n",
              "      border-radius: 50%;\n",
              "      cursor: pointer;\n",
              "      display: none;\n",
              "      fill: #1967D2;\n",
              "      height: 32px;\n",
              "      padding: 0 0 0 0;\n",
              "      width: 32px;\n",
              "    }\n",
              "\n",
              "    .colab-df-convert:hover {\n",
              "      background-color: #E2EBFA;\n",
              "      box-shadow: 0px 1px 2px rgba(60, 64, 67, 0.3), 0px 1px 3px 1px rgba(60, 64, 67, 0.15);\n",
              "      fill: #174EA6;\n",
              "    }\n",
              "\n",
              "    [theme=dark] .colab-df-convert {\n",
              "      background-color: #3B4455;\n",
              "      fill: #D2E3FC;\n",
              "    }\n",
              "\n",
              "    [theme=dark] .colab-df-convert:hover {\n",
              "      background-color: #434B5C;\n",
              "      box-shadow: 0px 1px 3px 1px rgba(0, 0, 0, 0.15);\n",
              "      filter: drop-shadow(0px 1px 2px rgba(0, 0, 0, 0.3));\n",
              "      fill: #FFFFFF;\n",
              "    }\n",
              "  </style>\n",
              "\n",
              "      <script>\n",
              "        const buttonEl =\n",
              "          document.querySelector('#df-bdd8ca6b-0ccc-4f67-858b-1ed4e1277771 button.colab-df-convert');\n",
              "        buttonEl.style.display =\n",
              "          google.colab.kernel.accessAllowed ? 'block' : 'none';\n",
              "\n",
              "        async function convertToInteractive(key) {\n",
              "          const element = document.querySelector('#df-bdd8ca6b-0ccc-4f67-858b-1ed4e1277771');\n",
              "          const dataTable =\n",
              "            await google.colab.kernel.invokeFunction('convertToInteractive',\n",
              "                                                     [key], {});\n",
              "          if (!dataTable) return;\n",
              "\n",
              "          const docLinkHtml = 'Like what you see? Visit the ' +\n",
              "            '<a target=\"_blank\" href=https://colab.research.google.com/notebooks/data_table.ipynb>data table notebook</a>'\n",
              "            + ' to learn more about interactive tables.';\n",
              "          element.innerHTML = '';\n",
              "          dataTable['output_type'] = 'display_data';\n",
              "          await google.colab.output.renderOutput(dataTable, element);\n",
              "          const docLink = document.createElement('div');\n",
              "          docLink.innerHTML = docLinkHtml;\n",
              "          element.appendChild(docLink);\n",
              "        }\n",
              "      </script>\n",
              "    </div>\n",
              "  </div>\n",
              "  "
            ]
          },
          "metadata": {},
          "execution_count": 23
        }
      ]
    },
    {
      "cell_type": "code",
      "source": [
        "def CPlot(feature) : \n",
        "    global data\n",
        "    fig, ax = plt.subplots(figsize=(10,6))\n",
        "    sns.countplot(x=feature, data=data,facecolor=(0, 0, 0, 0),linewidth=5,edgecolor=sns.color_palette(\"dark\", 3))\n",
        "\n",
        "CPlot(\"Platform\")"
      ],
      "metadata": {
        "colab": {
          "base_uri": "https://localhost:8080/",
          "height": 394
        },
        "id": "StNK4ofViXVT",
        "outputId": "c9d8a4c4-7658-427e-a06a-1f8bd92e3b47"
      },
      "execution_count": null,
      "outputs": [
        {
          "output_type": "display_data",
          "data": {
            "text/plain": [
              "<Figure size 720x432 with 1 Axes>"
            ],
            "image/png": "[encoded data removed]"
          },
          "metadata": {
            "needs_background": "light"
          }
        }
      ]
    },
    {
      "cell_type": "code",
      "source": [
        "data.info()"
      ],
      "metadata": {
        "colab": {
          "base_uri": "https://localhost:8080/"
        },
        "id": "3chCxdLTkjY4",
        "outputId": "1984d1bc-5d88-4ace-8f98-614754d40ea9"
      },
      "execution_count": null,
      "outputs": [
        {
          "output_type": "stream",
          "name": "stdout",
          "text": [
            "<class 'pandas.core.frame.DataFrame'>\n",
            "RangeIndex: 16598 entries, 0 to 16597\n",
            "Data columns (total 10 columns):\n",
            " #   Column        Non-Null Count  Dtype         \n",
            "---  ------        --------------  -----         \n",
            " 0   Name          16598 non-null  object        \n",
            " 1   Platform      16598 non-null  object        \n",
            " 2   Year          16327 non-null  datetime64[ns]\n",
            " 3   Genre         16598 non-null  object        \n",
            " 4   Publisher     16540 non-null  object        \n",
            " 5   NA_Sales      16598 non-null  float64       \n",
            " 6   EU_Sales      16598 non-null  float64       \n",
            " 7   JP_Sales      16598 non-null  float64       \n",
            " 8   Other_Sales   16598 non-null  float64       \n",
            " 9   Global_Sales  16598 non-null  float64       \n",
            "dtypes: datetime64[ns](1), float64(5), object(4)\n",
            "memory usage: 1.3+ MB\n"
          ]
        }
      ]
    },
    {
      "cell_type": "code",
      "source": [
        "# This will turn all of the string value into category values\n",
        "for label, content in data.items():\n",
        "    if pd.api.types.is_string_dtype(content):\n",
        "        data[label] = content.astype(\"category\").cat.as_ordered()\n",
        "\n",
        "#Finding Categorical Featurs\n",
        "categorical_features = [feature for feature in data.columns if data[feature].dtypes == 'category' ]\n",
        "print(categorical_features )\n",
        "\n",
        "#convert all cols to numbers\n",
        "cols= categorical_features  \n",
        "from sklearn.preprocessing import LabelEncoder\n",
        "for c in cols:\n",
        "    lbl = LabelEncoder() \n",
        "    lbl.fit(list(data[c].values)) \n",
        "    data[c] = lbl.transform(list(data[c].values))"
      ],
      "metadata": {
        "colab": {
          "base_uri": "https://localhost:8080/"
        },
        "id": "0TqtHC_ajmFv",
        "outputId": "0651c9ad-828f-42d6-e976-4513dc263aa4"
      },
      "execution_count": null,
      "outputs": [
        {
          "output_type": "stream",
          "name": "stdout",
          "text": [
            "['Name', 'Platform', 'Genre', 'Publisher']\n"
          ]
        }
      ]
    },
    {
      "cell_type": "code",
      "source": [
        "data.head()"
      ],
      "metadata": {
        "colab": {
          "base_uri": "https://localhost:8080/",
          "height": 206
        },
        "id": "8qmQoCM9kpUf",
        "outputId": "3da7adff-5e0d-4c5a-a089-9e6746172f0f"
      },
      "execution_count": null,
      "outputs": [
        {
          "output_type": "execute_result",
          "data": {
            "text/plain": [
              "    Name  Platform       Year  Genre  Publisher  NA_Sales  EU_Sales  JP_Sales  \\\n",
              "0  11007        26 2006-01-01     10        359     41.49     29.02      3.77   \n",
              "1   9327        11 1985-01-01      4        359     29.08      3.58      6.81   \n",
              "2   5573        26 2008-01-01      6        359     15.85     12.88      3.79   \n",
              "3  11009        26 2009-01-01     10        359     15.75     11.01      3.28   \n",
              "4   7346         5 1996-01-01      7        359     11.27      8.89     10.22   \n",
              "\n",
              "   Other_Sales  Global_Sales  \n",
              "0         8.46      4.415703  \n",
              "1         0.77      3.694862  \n",
              "2         3.31      3.578506  \n",
              "3         2.96      3.496508  \n",
              "4         1.00      3.445852  "
            ],
            "text/html": [
              "\n",
              "  <div id=\"df-cc957341-ad65-4089-b384-dbacc983d829\">\n",
              "    <div class=\"colab-df-container\">\n",
              "      <div>\n",
              "<style scoped>\n",
              "    .dataframe tbody tr th:only-of-type {\n",
              "        vertical-align: middle;\n",
              "    }\n",
              "\n",
              "    .dataframe tbody tr th {\n",
              "        vertical-align: top;\n",
              "    }\n",
              "\n",
              "    .dataframe thead th {\n",
              "        text-align: right;\n",
              "    }\n",
              "</style>\n",
              "<table border=\"1\" class=\"dataframe\">\n",
              "  <thead>\n",
              "    <tr style=\"text-align: right;\">\n",
              "      <th></th>\n",
              "      <th>Name</th>\n",
              "      <th>Platform</th>\n",
              "      <th>Year</th>\n",
              "      <th>Genre</th>\n",
              "      <th>Publisher</th>\n",
              "      <th>NA_Sales</th>\n",
              "      <th>EU_Sales</th>\n",
              "      <th>JP_Sales</th>\n",
              "      <th>Other_Sales</th>\n",
              "      <th>Global_Sales</th>\n",
              "    </tr>\n",
              "  </thead>\n",
              "  <tbody>\n",
              "    <tr>\n",
              "      <th>0</th>\n",
              "      <td>11007</td>\n",
              "      <td>26</td>\n",
              "      <td>2006-01-01</td>\n",
              "      <td>10</td>\n",
              "      <td>359</td>\n",
              "      <td>41.49</td>\n",
              "      <td>29.02</td>\n",
              "      <td>3.77</td>\n",
              "      <td>8.46</td>\n",
              "      <td>4.415703</td>\n",
              "    </tr>\n",
              "    <tr>\n",
              "      <th>1</th>\n",
              "      <td>9327</td>\n",
              "      <td>11</td>\n",
              "      <td>1985-01-01</td>\n",
              "      <td>4</td>\n",
              "      <td>359</td>\n",
              "      <td>29.08</td>\n",
              "      <td>3.58</td>\n",
              "      <td>6.81</td>\n",
              "      <td>0.77</td>\n",
              "      <td>3.694862</td>\n",
              "    </tr>\n",
              "    <tr>\n",
              "      <th>2</th>\n",
              "      <td>5573</td>\n",
              "      <td>26</td>\n",
              "      <td>2008-01-01</td>\n",
              "      <td>6</td>\n",
              "      <td>359</td>\n",
              "      <td>15.85</td>\n",
              "      <td>12.88</td>\n",
              "      <td>3.79</td>\n",
              "      <td>3.31</td>\n",
              "      <td>3.578506</td>\n",
              "    </tr>\n",
              "    <tr>\n",
              "      <th>3</th>\n",
              "      <td>11009</td>\n",
              "      <td>26</td>\n",
              "      <td>2009-01-01</td>\n",
              "      <td>10</td>\n",
              "      <td>359</td>\n",
              "      <td>15.75</td>\n",
              "      <td>11.01</td>\n",
              "      <td>3.28</td>\n",
              "      <td>2.96</td>\n",
              "      <td>3.496508</td>\n",
              "    </tr>\n",
              "    <tr>\n",
              "      <th>4</th>\n",
              "      <td>7346</td>\n",
              "      <td>5</td>\n",
              "      <td>1996-01-01</td>\n",
              "      <td>7</td>\n",
              "      <td>359</td>\n",
              "      <td>11.27</td>\n",
              "      <td>8.89</td>\n",
              "      <td>10.22</td>\n",
              "      <td>1.00</td>\n",
              "      <td>3.445852</td>\n",
              "    </tr>\n",
              "  </tbody>\n",
              "</table>\n",
              "</div>\n",
              "      <button class=\"colab-df-convert\" onclick=\"convertToInteractive('df-cc957341-ad65-4089-b384-dbacc983d829')\"\n",
              "              title=\"Convert this dataframe to an interactive table.\"\n",
              "              style=\"display:none;\">\n",
              "        \n",
              "  <svg xmlns=\"http://www.w3.org/2000/svg\" height=\"24px\"viewBox=\"0 0 24 24\"\n",
              "       width=\"24px\">\n",
              "    <path d=\"M0 0h24v24H0V0z\" fill=\"none\"/>\n",
              "    <path d=\"M18.56 5.44l.94 2.06.94-2.06 2.06-.94-2.06-.94-.94-2.06-.94 2.06-2.06.94zm-11 1L8.5 8.5l.94-2.06 2.06-.94-2.06-.94L8.5 2.5l-.94 2.06-2.06.94zm10 10l.94 2.06.94-2.06 2.06-.94-2.06-.94-.94-2.06-.94 2.06-2.06.94z\"/><path d=\"M17.41 7.96l-1.37-1.37c-.4-.4-.92-.59-1.43-.59-.52 0-1.04.2-1.43.59L10.3 9.45l-7.72 7.72c-.78.78-.78 2.05 0 2.83L4 21.41c.39.39.9.59 1.41.59.51 0 1.02-.2 1.41-.59l7.78-7.78 2.81-2.81c.8-.78.8-2.07 0-2.86zM5.41 20L4 18.59l7.72-7.72 1.47 1.35L5.41 20z\"/>\n",
              "  </svg>\n",
              "      </button>\n",
              "      \n",
              "  <style>\n",
              "    .colab-df-container {\n",
              "      display:flex;\n",
              "      flex-wrap:wrap;\n",
              "      gap: 12px;\n",
              "    }\n",
              "\n",
              "    .colab-df-convert {\n",
              "      background-color: #E8F0FE;\n",
              "      border: none;\n",
              "      border-radius: 50%;\n",
              "      cursor: pointer;\n",
              "      display: none;\n",
              "      fill: #1967D2;\n",
              "      height: 32px;\n",
              "      padding: 0 0 0 0;\n",
              "      width: 32px;\n",
              "    }\n",
              "\n",
              "    .colab-df-convert:hover {\n",
              "      background-color: #E2EBFA;\n",
              "      box-shadow: 0px 1px 2px rgba(60, 64, 67, 0.3), 0px 1px 3px 1px rgba(60, 64, 67, 0.15);\n",
              "      fill: #174EA6;\n",
              "    }\n",
              "\n",
              "    [theme=dark] .colab-df-convert {\n",
              "      background-color: #3B4455;\n",
              "      fill: #D2E3FC;\n",
              "    }\n",
              "\n",
              "    [theme=dark] .colab-df-convert:hover {\n",
              "      background-color: #434B5C;\n",
              "      box-shadow: 0px 1px 3px 1px rgba(0, 0, 0, 0.15);\n",
              "      filter: drop-shadow(0px 1px 2px rgba(0, 0, 0, 0.3));\n",
              "      fill: #FFFFFF;\n",
              "    }\n",
              "  </style>\n",
              "\n",
              "      <script>\n",
              "        const buttonEl =\n",
              "          document.querySelector('#df-cc957341-ad65-4089-b384-dbacc983d829 button.colab-df-convert');\n",
              "        buttonEl.style.display =\n",
              "          google.colab.kernel.accessAllowed ? 'block' : 'none';\n",
              "\n",
              "        async function convertToInteractive(key) {\n",
              "          const element = document.querySelector('#df-cc957341-ad65-4089-b384-dbacc983d829');\n",
              "          const dataTable =\n",
              "            await google.colab.kernel.invokeFunction('convertToInteractive',\n",
              "                                                     [key], {});\n",
              "          if (!dataTable) return;\n",
              "\n",
              "          const docLinkHtml = 'Like what you see? Visit the ' +\n",
              "            '<a target=\"_blank\" href=https://colab.research.google.com/notebooks/data_table.ipynb>data table notebook</a>'\n",
              "            + ' to learn more about interactive tables.';\n",
              "          element.innerHTML = '';\n",
              "          dataTable['output_type'] = 'display_data';\n",
              "          await google.colab.output.renderOutput(dataTable, element);\n",
              "          const docLink = document.createElement('div');\n",
              "          docLink.innerHTML = docLinkHtml;\n",
              "          element.appendChild(docLink);\n",
              "        }\n",
              "      </script>\n",
              "    </div>\n",
              "  </div>\n",
              "  "
            ]
          },
          "metadata": {},
          "execution_count": 27
        }
      ]
    },
    {
      "cell_type": "code",
      "source": [
        "total = data.isnull().sum().sort_values(ascending=False)\n",
        "percent = (data.isnull().sum()/data.isnull().count()).sort_values(ascending=False)\n",
        "missing_data = pd.concat([total, percent], axis=1, keys=['Total', 'Percent'])\n",
        "missing_data.head(20)"
      ],
      "metadata": {
        "colab": {
          "base_uri": "https://localhost:8080/",
          "height": 363
        },
        "id": "mizRvWX1k2jG",
        "outputId": "320e9388-a4f5-4ed7-ea75-65fc437e108c"
      },
      "execution_count": null,
      "outputs": [
        {
          "output_type": "execute_result",
          "data": {
            "text/plain": [
              "              Total   Percent\n",
              "Year            271  0.016327\n",
              "Name              0  0.000000\n",
              "Platform          0  0.000000\n",
              "Genre             0  0.000000\n",
              "Publisher         0  0.000000\n",
              "NA_Sales          0  0.000000\n",
              "EU_Sales          0  0.000000\n",
              "JP_Sales          0  0.000000\n",
              "Other_Sales       0  0.000000\n",
              "Global_Sales      0  0.000000"
            ],
            "text/html": [
              "\n",
              "  <div id=\"df-da7eb7d4-0128-4013-a932-45f0cc24b6f6\">\n",
              "    <div class=\"colab-df-container\">\n",
              "      <div>\n",
              "<style scoped>\n",
              "    .dataframe tbody tr th:only-of-type {\n",
              "        vertical-align: middle;\n",
              "    }\n",
              "\n",
              "    .dataframe tbody tr th {\n",
              "        vertical-align: top;\n",
              "    }\n",
              "\n",
              "    .dataframe thead th {\n",
              "        text-align: right;\n",
              "    }\n",
              "</style>\n",
              "<table border=\"1\" class=\"dataframe\">\n",
              "  <thead>\n",
              "    <tr style=\"text-align: right;\">\n",
              "      <th></th>\n",
              "      <th>Total</th>\n",
              "      <th>Percent</th>\n",
              "    </tr>\n",
              "  </thead>\n",
              "  <tbody>\n",
              "    <tr>\n",
              "      <th>Year</th>\n",
              "      <td>271</td>\n",
              "      <td>0.016327</td>\n",
              "    </tr>\n",
              "    <tr>\n",
              "      <th>Name</th>\n",
              "      <td>0</td>\n",
              "      <td>0.000000</td>\n",
              "    </tr>\n",
              "    <tr>\n",
              "      <th>Platform</th>\n",
              "      <td>0</td>\n",
              "      <td>0.000000</td>\n",
              "    </tr>\n",
              "    <tr>\n",
              "      <th>Genre</th>\n",
              "      <td>0</td>\n",
              "      <td>0.000000</td>\n",
              "    </tr>\n",
              "    <tr>\n",
              "      <th>Publisher</th>\n",
              "      <td>0</td>\n",
              "      <td>0.000000</td>\n",
              "    </tr>\n",
              "    <tr>\n",
              "      <th>NA_Sales</th>\n",
              "      <td>0</td>\n",
              "      <td>0.000000</td>\n",
              "    </tr>\n",
              "    <tr>\n",
              "      <th>EU_Sales</th>\n",
              "      <td>0</td>\n",
              "      <td>0.000000</td>\n",
              "    </tr>\n",
              "    <tr>\n",
              "      <th>JP_Sales</th>\n",
              "      <td>0</td>\n",
              "      <td>0.000000</td>\n",
              "    </tr>\n",
              "    <tr>\n",
              "      <th>Other_Sales</th>\n",
              "      <td>0</td>\n",
              "      <td>0.000000</td>\n",
              "    </tr>\n",
              "    <tr>\n",
              "      <th>Global_Sales</th>\n",
              "      <td>0</td>\n",
              "      <td>0.000000</td>\n",
              "    </tr>\n",
              "  </tbody>\n",
              "</table>\n",
              "</div>\n",
              "      <button class=\"colab-df-convert\" onclick=\"convertToInteractive('df-da7eb7d4-0128-4013-a932-45f0cc24b6f6')\"\n",
              "              title=\"Convert this dataframe to an interactive table.\"\n",
              "              style=\"display:none;\">\n",
              "        \n",
              "  <svg xmlns=\"http://www.w3.org/2000/svg\" height=\"24px\"viewBox=\"0 0 24 24\"\n",
              "       width=\"24px\">\n",
              "    <path d=\"M0 0h24v24H0V0z\" fill=\"none\"/>\n",
              "    <path d=\"M18.56 5.44l.94 2.06.94-2.06 2.06-.94-2.06-.94-.94-2.06-.94 2.06-2.06.94zm-11 1L8.5 8.5l.94-2.06 2.06-.94-2.06-.94L8.5 2.5l-.94 2.06-2.06.94zm10 10l.94 2.06.94-2.06 2.06-.94-2.06-.94-.94-2.06-.94 2.06-2.06.94z\"/><path d=\"M17.41 7.96l-1.37-1.37c-.4-.4-.92-.59-1.43-.59-.52 0-1.04.2-1.43.59L10.3 9.45l-7.72 7.72c-.78.78-.78 2.05 0 2.83L4 21.41c.39.39.9.59 1.41.59.51 0 1.02-.2 1.41-.59l7.78-7.78 2.81-2.81c.8-.78.8-2.07 0-2.86zM5.41 20L4 18.59l7.72-7.72 1.47 1.35L5.41 20z\"/>\n",
              "  </svg>\n",
              "      </button>\n",
              "      \n",
              "  <style>\n",
              "    .colab-df-container {\n",
              "      display:flex;\n",
              "      flex-wrap:wrap;\n",
              "      gap: 12px;\n",
              "    }\n",
              "\n",
              "    .colab-df-convert {\n",
              "      background-color: #E8F0FE;\n",
              "      border: none;\n",
              "      border-radius: 50%;\n",
              "      cursor: pointer;\n",
              "      display: none;\n",
              "      fill: #1967D2;\n",
              "      height: 32px;\n",
              "      padding: 0 0 0 0;\n",
              "      width: 32px;\n",
              "    }\n",
              "\n",
              "    .colab-df-convert:hover {\n",
              "      background-color: #E2EBFA;\n",
              "      box-shadow: 0px 1px 2px rgba(60, 64, 67, 0.3), 0px 1px 3px 1px rgba(60, 64, 67, 0.15);\n",
              "      fill: #174EA6;\n",
              "    }\n",
              "\n",
              "    [theme=dark] .colab-df-convert {\n",
              "      background-color: #3B4455;\n",
              "      fill: #D2E3FC;\n",
              "    }\n",
              "\n",
              "    [theme=dark] .colab-df-convert:hover {\n",
              "      background-color: #434B5C;\n",
              "      box-shadow: 0px 1px 3px 1px rgba(0, 0, 0, 0.15);\n",
              "      filter: drop-shadow(0px 1px 2px rgba(0, 0, 0, 0.3));\n",
              "      fill: #FFFFFF;\n",
              "    }\n",
              "  </style>\n",
              "\n",
              "      <script>\n",
              "        const buttonEl =\n",
              "          document.querySelector('#df-da7eb7d4-0128-4013-a932-45f0cc24b6f6 button.colab-df-convert');\n",
              "        buttonEl.style.display =\n",
              "          google.colab.kernel.accessAllowed ? 'block' : 'none';\n",
              "\n",
              "        async function convertToInteractive(key) {\n",
              "          const element = document.querySelector('#df-da7eb7d4-0128-4013-a932-45f0cc24b6f6');\n",
              "          const dataTable =\n",
              "            await google.colab.kernel.invokeFunction('convertToInteractive',\n",
              "                                                     [key], {});\n",
              "          if (!dataTable) return;\n",
              "\n",
              "          const docLinkHtml = 'Like what you see? Visit the ' +\n",
              "            '<a target=\"_blank\" href=https://colab.research.google.com/notebooks/data_table.ipynb>data table notebook</a>'\n",
              "            + ' to learn more about interactive tables.';\n",
              "          element.innerHTML = '';\n",
              "          dataTable['output_type'] = 'display_data';\n",
              "          await google.colab.output.renderOutput(dataTable, element);\n",
              "          const docLink = document.createElement('div');\n",
              "          docLink.innerHTML = docLinkHtml;\n",
              "          element.appendChild(docLink);\n",
              "        }\n",
              "      </script>\n",
              "    </div>\n",
              "  </div>\n",
              "  "
            ]
          },
          "metadata": {},
          "execution_count": 28
        }
      ]
    },
    {
      "cell_type": "code",
      "source": [
        "data['Year'].fillna(data.Year.median(),inplace=True)"
      ],
      "metadata": {
        "id": "Yagx0xd6lPit"
      },
      "execution_count": null,
      "outputs": []
    },
    {
      "cell_type": "code",
      "source": [
        "total = data.isnull().sum().sort_values(ascending=False)\n",
        "percent = (data.isnull().sum()/data.isnull().count()).sort_values(ascending=False)\n",
        "missing_data = pd.concat([total, percent], axis=1, keys=['Total', 'Percent'])\n",
        "missing_data.head(20)"
      ],
      "metadata": {
        "colab": {
          "base_uri": "https://localhost:8080/",
          "height": 363
        },
        "id": "C2g62p8Jld9f",
        "outputId": "76a3ebb3-f855-4aa3-9262-77f0acb90b71"
      },
      "execution_count": null,
      "outputs": [
        {
          "output_type": "execute_result",
          "data": {
            "text/plain": [
              "              Total  Percent\n",
              "Name              0      0.0\n",
              "Platform          0      0.0\n",
              "Year              0      0.0\n",
              "Genre             0      0.0\n",
              "Publisher         0      0.0\n",
              "NA_Sales          0      0.0\n",
              "EU_Sales          0      0.0\n",
              "JP_Sales          0      0.0\n",
              "Other_Sales       0      0.0\n",
              "Global_Sales      0      0.0"
            ],
            "text/html": [
              "\n",
              "  <div id=\"df-457257ed-afee-416b-81de-8a4a79ef1fc3\">\n",
              "    <div class=\"colab-df-container\">\n",
              "      <div>\n",
              "<style scoped>\n",
              "    .dataframe tbody tr th:only-of-type {\n",
              "        vertical-align: middle;\n",
              "    }\n",
              "\n",
              "    .dataframe tbody tr th {\n",
              "        vertical-align: top;\n",
              "    }\n",
              "\n",
              "    .dataframe thead th {\n",
              "        text-align: right;\n",
              "    }\n",
              "</style>\n",
              "<table border=\"1\" class=\"dataframe\">\n",
              "  <thead>\n",
              "    <tr style=\"text-align: right;\">\n",
              "      <th></th>\n",
              "      <th>Total</th>\n",
              "      <th>Percent</th>\n",
              "    </tr>\n",
              "  </thead>\n",
              "  <tbody>\n",
              "    <tr>\n",
              "      <th>Name</th>\n",
              "      <td>0</td>\n",
              "      <td>0.0</td>\n",
              "    </tr>\n",
              "    <tr>\n",
              "      <th>Platform</th>\n",
              "      <td>0</td>\n",
              "      <td>0.0</td>\n",
              "    </tr>\n",
              "    <tr>\n",
              "      <th>Year</th>\n",
              "      <td>0</td>\n",
              "      <td>0.0</td>\n",
              "    </tr>\n",
              "    <tr>\n",
              "      <th>Genre</th>\n",
              "      <td>0</td>\n",
              "      <td>0.0</td>\n",
              "    </tr>\n",
              "    <tr>\n",
              "      <th>Publisher</th>\n",
              "      <td>0</td>\n",
              "      <td>0.0</td>\n",
              "    </tr>\n",
              "    <tr>\n",
              "      <th>NA_Sales</th>\n",
              "      <td>0</td>\n",
              "      <td>0.0</td>\n",
              "    </tr>\n",
              "    <tr>\n",
              "      <th>EU_Sales</th>\n",
              "      <td>0</td>\n",
              "      <td>0.0</td>\n",
              "    </tr>\n",
              "    <tr>\n",
              "      <th>JP_Sales</th>\n",
              "      <td>0</td>\n",
              "      <td>0.0</td>\n",
              "    </tr>\n",
              "    <tr>\n",
              "      <th>Other_Sales</th>\n",
              "      <td>0</td>\n",
              "      <td>0.0</td>\n",
              "    </tr>\n",
              "    <tr>\n",
              "      <th>Global_Sales</th>\n",
              "      <td>0</td>\n",
              "      <td>0.0</td>\n",
              "    </tr>\n",
              "  </tbody>\n",
              "</table>\n",
              "</div>\n",
              "      <button class=\"colab-df-convert\" onclick=\"convertToInteractive('df-457257ed-afee-416b-81de-8a4a79ef1fc3')\"\n",
              "              title=\"Convert this dataframe to an interactive table.\"\n",
              "              style=\"display:none;\">\n",
              "        \n",
              "  <svg xmlns=\"http://www.w3.org/2000/svg\" height=\"24px\"viewBox=\"0 0 24 24\"\n",
              "       width=\"24px\">\n",
              "    <path d=\"M0 0h24v24H0V0z\" fill=\"none\"/>\n",
              "    <path d=\"M18.56 5.44l.94 2.06.94-2.06 2.06-.94-2.06-.94-.94-2.06-.94 2.06-2.06.94zm-11 1L8.5 8.5l.94-2.06 2.06-.94-2.06-.94L8.5 2.5l-.94 2.06-2.06.94zm10 10l.94 2.06.94-2.06 2.06-.94-2.06-.94-.94-2.06-.94 2.06-2.06.94z\"/><path d=\"M17.41 7.96l-1.37-1.37c-.4-.4-.92-.59-1.43-.59-.52 0-1.04.2-1.43.59L10.3 9.45l-7.72 7.72c-.78.78-.78 2.05 0 2.83L4 21.41c.39.39.9.59 1.41.59.51 0 1.02-.2 1.41-.59l7.78-7.78 2.81-2.81c.8-.78.8-2.07 0-2.86zM5.41 20L4 18.59l7.72-7.72 1.47 1.35L5.41 20z\"/>\n",
              "  </svg>\n",
              "      </button>\n",
              "      \n",
              "  <style>\n",
              "    .colab-df-container {\n",
              "      display:flex;\n",
              "      flex-wrap:wrap;\n",
              "      gap: 12px;\n",
              "    }\n",
              "\n",
              "    .colab-df-convert {\n",
              "      background-color: #E8F0FE;\n",
              "      border: none;\n",
              "      border-radius: 50%;\n",
              "      cursor: pointer;\n",
              "      display: none;\n",
              "      fill: #1967D2;\n",
              "      height: 32px;\n",
              "      padding: 0 0 0 0;\n",
              "      width: 32px;\n",
              "    }\n",
              "\n",
              "    .colab-df-convert:hover {\n",
              "      background-color: #E2EBFA;\n",
              "      box-shadow: 0px 1px 2px rgba(60, 64, 67, 0.3), 0px 1px 3px 1px rgba(60, 64, 67, 0.15);\n",
              "      fill: #174EA6;\n",
              "    }\n",
              "\n",
              "    [theme=dark] .colab-df-convert {\n",
              "      background-color: #3B4455;\n",
              "      fill: #D2E3FC;\n",
              "    }\n",
              "\n",
              "    [theme=dark] .colab-df-convert:hover {\n",
              "      background-color: #434B5C;\n",
              "      box-shadow: 0px 1px 3px 1px rgba(0, 0, 0, 0.15);\n",
              "      filter: drop-shadow(0px 1px 2px rgba(0, 0, 0, 0.3));\n",
              "      fill: #FFFFFF;\n",
              "    }\n",
              "  </style>\n",
              "\n",
              "      <script>\n",
              "        const buttonEl =\n",
              "          document.querySelector('#df-457257ed-afee-416b-81de-8a4a79ef1fc3 button.colab-df-convert');\n",
              "        buttonEl.style.display =\n",
              "          google.colab.kernel.accessAllowed ? 'block' : 'none';\n",
              "\n",
              "        async function convertToInteractive(key) {\n",
              "          const element = document.querySelector('#df-457257ed-afee-416b-81de-8a4a79ef1fc3');\n",
              "          const dataTable =\n",
              "            await google.colab.kernel.invokeFunction('convertToInteractive',\n",
              "                                                     [key], {});\n",
              "          if (!dataTable) return;\n",
              "\n",
              "          const docLinkHtml = 'Like what you see? Visit the ' +\n",
              "            '<a target=\"_blank\" href=https://colab.research.google.com/notebooks/data_table.ipynb>data table notebook</a>'\n",
              "            + ' to learn more about interactive tables.';\n",
              "          element.innerHTML = '';\n",
              "          dataTable['output_type'] = 'display_data';\n",
              "          await google.colab.output.renderOutput(dataTable, element);\n",
              "          const docLink = document.createElement('div');\n",
              "          docLink.innerHTML = docLinkHtml;\n",
              "          element.appendChild(docLink);\n",
              "        }\n",
              "      </script>\n",
              "    </div>\n",
              "  </div>\n",
              "  "
            ]
          },
          "metadata": {},
          "execution_count": 31
        }
      ]
    },
    {
      "cell_type": "code",
      "source": [
        "#Zscore_outlier Method\n",
        "out=[]\n",
        "def Zscore_outlier(data):\n",
        "    for i in data: \n",
        "       z = (i-np.mean(data))/np.std(data)\n",
        "       if np.abs(z) > 3: \n",
        "         out.append(i)                   \n",
        "    print(\"Year:\",out)\n",
        "Zscore_outlier(data['Year'])"
      ],
      "metadata": {
        "colab": {
          "base_uri": "https://localhost:8080/"
        },
        "id": "MNy-J-UwlioY",
        "outputId": "155855fe-49b7-4327-d518-81fc9cde3be6"
      },
      "execution_count": null,
      "outputs": [
        {
          "output_type": "stream",
          "name": "stdout",
          "text": [
            "Year: [Timestamp('1985-01-01 00:00:00'), Timestamp('1989-01-01 00:00:00'), Timestamp('1984-01-01 00:00:00'), Timestamp('1989-01-01 00:00:00'), Timestamp('1988-01-01 00:00:00'), Timestamp('1982-01-01 00:00:00'), Timestamp('1988-01-01 00:00:00'), Timestamp('1986-01-01 00:00:00'), Timestamp('1988-01-01 00:00:00'), Timestamp('1989-01-01 00:00:00'), Timestamp('1981-01-01 00:00:00'), Timestamp('1987-01-01 00:00:00'), Timestamp('1980-01-01 00:00:00'), Timestamp('1989-01-01 00:00:00'), Timestamp('1984-01-01 00:00:00'), Timestamp('1984-01-01 00:00:00'), Timestamp('1988-01-01 00:00:00'), Timestamp('1985-01-01 00:00:00'), Timestamp('1983-01-01 00:00:00'), Timestamp('1986-01-01 00:00:00'), Timestamp('1987-01-01 00:00:00'), Timestamp('1980-01-01 00:00:00'), Timestamp('1986-01-01 00:00:00'), Timestamp('1986-01-01 00:00:00'), Timestamp('1987-01-01 00:00:00'), Timestamp('1986-01-01 00:00:00'), Timestamp('1988-01-01 00:00:00'), Timestamp('1987-01-01 00:00:00'), Timestamp('1983-01-01 00:00:00'), Timestamp('1981-01-01 00:00:00'), Timestamp('1986-01-01 00:00:00'), Timestamp('1984-01-01 00:00:00'), Timestamp('1987-01-01 00:00:00'), Timestamp('1983-01-01 00:00:00'), Timestamp('1988-01-01 00:00:00'), Timestamp('1981-01-01 00:00:00'), Timestamp('1989-01-01 00:00:00'), Timestamp('1989-01-01 00:00:00'), Timestamp('1981-01-01 00:00:00'), Timestamp('1986-01-01 00:00:00'), Timestamp('1985-01-01 00:00:00'), Timestamp('1989-01-01 00:00:00'), Timestamp('1984-01-01 00:00:00'), Timestamp('1986-01-01 00:00:00'), Timestamp('1989-01-01 00:00:00'), Timestamp('1981-01-01 00:00:00'), Timestamp('1982-01-01 00:00:00'), Timestamp('1986-01-01 00:00:00'), Timestamp('1989-01-01 00:00:00'), Timestamp('1981-01-01 00:00:00'), Timestamp('1982-01-01 00:00:00'), Timestamp('1988-01-01 00:00:00'), Timestamp('1984-01-01 00:00:00'), Timestamp('1984-01-01 00:00:00'), Timestamp('1988-01-01 00:00:00'), Timestamp('1985-01-01 00:00:00'), Timestamp('1986-01-01 00:00:00'), Timestamp('1981-01-01 00:00:00'), Timestamp('1984-01-01 00:00:00'), Timestamp('1988-01-01 00:00:00'), Timestamp('1987-01-01 00:00:00'), Timestamp('1986-01-01 00:00:00'), Timestamp('1981-01-01 00:00:00'), Timestamp('1985-01-01 00:00:00'), Timestamp('1983-01-01 00:00:00'), Timestamp('1989-01-01 00:00:00'), Timestamp('1981-01-01 00:00:00'), Timestamp('1984-01-01 00:00:00'), Timestamp('1988-01-01 00:00:00'), Timestamp('1987-01-01 00:00:00'), Timestamp('1986-01-01 00:00:00'), Timestamp('1984-01-01 00:00:00'), Timestamp('1986-01-01 00:00:00'), Timestamp('1986-01-01 00:00:00'), Timestamp('1989-01-01 00:00:00'), Timestamp('1982-01-01 00:00:00'), Timestamp('1988-01-01 00:00:00'), Timestamp('1980-01-01 00:00:00'), Timestamp('1986-01-01 00:00:00'), Timestamp('1986-01-01 00:00:00'), Timestamp('1983-01-01 00:00:00'), Timestamp('1982-01-01 00:00:00'), Timestamp('1983-01-01 00:00:00'), Timestamp('1981-01-01 00:00:00'), Timestamp('1982-01-01 00:00:00'), Timestamp('1984-01-01 00:00:00'), Timestamp('1989-01-01 00:00:00'), Timestamp('1989-01-01 00:00:00'), Timestamp('1983-01-01 00:00:00'), Timestamp('1982-01-01 00:00:00'), Timestamp('1981-01-01 00:00:00'), Timestamp('1980-01-01 00:00:00'), Timestamp('1986-01-01 00:00:00'), Timestamp('1985-01-01 00:00:00'), Timestamp('1985-01-01 00:00:00'), Timestamp('1985-01-01 00:00:00'), Timestamp('1981-01-01 00:00:00'), Timestamp('1986-01-01 00:00:00'), Timestamp('1981-01-01 00:00:00'), Timestamp('1987-01-01 00:00:00'), Timestamp('1985-01-01 00:00:00'), Timestamp('1982-01-01 00:00:00'), Timestamp('1989-01-01 00:00:00'), Timestamp('1987-01-01 00:00:00'), Timestamp('1984-01-01 00:00:00'), Timestamp('1981-01-01 00:00:00'), Timestamp('1987-01-01 00:00:00'), Timestamp('1981-01-01 00:00:00'), Timestamp('1982-01-01 00:00:00'), Timestamp('1983-01-01 00:00:00'), Timestamp('1982-01-01 00:00:00'), Timestamp('1981-01-01 00:00:00'), Timestamp('1980-01-01 00:00:00'), Timestamp('1983-01-01 00:00:00'), Timestamp('1988-01-01 00:00:00'), Timestamp('1981-01-01 00:00:00'), Timestamp('1982-01-01 00:00:00'), Timestamp('1981-01-01 00:00:00'), Timestamp('1984-01-01 00:00:00'), Timestamp('1981-01-01 00:00:00'), Timestamp('1982-01-01 00:00:00'), Timestamp('1987-01-01 00:00:00'), Timestamp('1982-01-01 00:00:00'), Timestamp('1982-01-01 00:00:00'), Timestamp('1982-01-01 00:00:00'), Timestamp('1981-01-01 00:00:00'), Timestamp('1981-01-01 00:00:00'), Timestamp('1982-01-01 00:00:00'), Timestamp('1986-01-01 00:00:00'), Timestamp('1982-01-01 00:00:00'), Timestamp('1982-01-01 00:00:00'), Timestamp('1982-01-01 00:00:00'), Timestamp('1985-01-01 00:00:00'), Timestamp('1988-01-01 00:00:00'), Timestamp('1983-01-01 00:00:00'), Timestamp('1982-01-01 00:00:00'), Timestamp('1982-01-01 00:00:00'), Timestamp('1981-01-01 00:00:00'), Timestamp('1982-01-01 00:00:00'), Timestamp('1980-01-01 00:00:00'), Timestamp('1983-01-01 00:00:00'), Timestamp('1981-01-01 00:00:00'), Timestamp('1989-01-01 00:00:00'), Timestamp('1987-01-01 00:00:00'), Timestamp('1983-01-01 00:00:00'), Timestamp('1985-01-01 00:00:00'), Timestamp('1981-01-01 00:00:00'), Timestamp('1987-01-01 00:00:00'), Timestamp('1981-01-01 00:00:00'), Timestamp('1981-01-01 00:00:00'), Timestamp('1985-01-01 00:00:00'), Timestamp('1983-01-01 00:00:00'), Timestamp('1981-01-01 00:00:00'), Timestamp('1982-01-01 00:00:00'), Timestamp('1982-01-01 00:00:00'), Timestamp('1981-01-01 00:00:00'), Timestamp('1981-01-01 00:00:00'), Timestamp('1982-01-01 00:00:00'), Timestamp('1986-01-01 00:00:00'), Timestamp('1981-01-01 00:00:00'), Timestamp('1981-01-01 00:00:00'), Timestamp('1980-01-01 00:00:00'), Timestamp('1982-01-01 00:00:00'), Timestamp('1983-01-01 00:00:00'), Timestamp('1981-01-01 00:00:00'), Timestamp('1982-01-01 00:00:00'), Timestamp('1981-01-01 00:00:00'), Timestamp('1983-01-01 00:00:00'), Timestamp('1981-01-01 00:00:00'), Timestamp('1982-01-01 00:00:00'), Timestamp('1982-01-01 00:00:00'), Timestamp('1981-01-01 00:00:00'), Timestamp('1986-01-01 00:00:00'), Timestamp('1983-01-01 00:00:00'), Timestamp('1981-01-01 00:00:00'), Timestamp('1982-01-01 00:00:00'), Timestamp('1982-01-01 00:00:00'), Timestamp('1984-01-01 00:00:00'), Timestamp('1980-01-01 00:00:00'), Timestamp('1981-01-01 00:00:00'), Timestamp('1987-01-01 00:00:00'), Timestamp('1982-01-01 00:00:00'), Timestamp('1981-01-01 00:00:00'), Timestamp('1980-01-01 00:00:00'), Timestamp('1988-01-01 00:00:00'), Timestamp('1981-01-01 00:00:00'), Timestamp('1981-01-01 00:00:00'), Timestamp('1982-01-01 00:00:00'), Timestamp('1981-01-01 00:00:00'), Timestamp('1981-01-01 00:00:00'), Timestamp('1981-01-01 00:00:00'), Timestamp('1981-01-01 00:00:00'), Timestamp('1983-01-01 00:00:00'), Timestamp('1982-01-01 00:00:00'), Timestamp('1981-01-01 00:00:00'), Timestamp('1989-01-01 00:00:00'), Timestamp('1982-01-01 00:00:00'), Timestamp('1982-01-01 00:00:00'), Timestamp('1981-01-01 00:00:00'), Timestamp('1987-01-01 00:00:00'), Timestamp('1987-01-01 00:00:00'), Timestamp('1989-01-01 00:00:00'), Timestamp('1985-01-01 00:00:00'), Timestamp('1988-01-01 00:00:00'), Timestamp('1985-01-01 00:00:00')]\n"
          ]
        }
      ]
    },
    {
      "cell_type": "code",
      "source": [
        "out=[]\n",
        "def Zscore_outlier(data):\n",
        "    for i in data: \n",
        "       z = (i-np.mean(data))/np.std(data)\n",
        "       if np.abs(z) > 3: \n",
        "         out.append(i)                   \n",
        "    print(\"Global_Sales:\",out)\n",
        "Zscore_outlier(data['Global_Sales'])"
      ],
      "metadata": {
        "colab": {
          "base_uri": "https://localhost:8080/"
        },
        "id": "W8bRdqGrmeeC",
        "outputId": "14114e3e-aafb-4d68-f517-53e96426839d"
      },
      "execution_count": null,
      "outputs": [
        {
          "output_type": "stream",
          "name": "stdout",
          "text": [
            "Global_Sales: [4.4157031610332655, 3.6948615257914836, 3.578506396632566, 3.4965075614664802, 3.445852022202587, 3.40982670836021, 3.4015306594522756, 3.367985247456042, 3.3541057741283047, 3.343215099123808, 3.2092294478163956, 3.1535903581695712, 3.139832617527748, 3.1232455938529506, 3.091042453358316, 3.0828269804049246, 3.0633909220278057, 3.035433640405543, 3.0257763949023677, 3.006672213592325, 2.9101743851923443, 2.8981194446869907, 2.8495497633759097, 2.7960610784249234, 2.7819200496686656, 2.7631695003232895, 2.729159164312445, 2.72785282839839, 2.7067159780890733, 2.6919208191723265, 2.6837575085331657, 2.6837575085331657, 2.66374994220563, 2.65605490598383]\n"
          ]
        }
      ]
    },
    {
      "cell_type": "code",
      "source": [
        "counts = data.nunique()\n",
        "to_del = [i for i , v in enumerate(counts) if v == 1]\n",
        "print(to_del)\n",
        "data.drop(to_del, axis=1,inplace=True)\n",
        "####OR\n",
        "def remove_constant_value_features(data):\n",
        "    return [e for e in data.columns if data[e].nunique() == 1]\n",
        "drop_col = remove_constant_value_features(data)\n",
        "print(drop_col)"
      ],
      "metadata": {
        "colab": {
          "base_uri": "https://localhost:8080/"
        },
        "id": "_K2ExE5VnxWU",
        "outputId": "a5acde43-00d1-4f33-b814-e8f2733011a0"
      },
      "execution_count": null,
      "outputs": [
        {
          "output_type": "stream",
          "name": "stdout",
          "text": [
            "[]\n",
            "[]\n"
          ]
        }
      ]
    },
    {
      "cell_type": "code",
      "source": [
        "def remove_distinct_value_features(data):\n",
        "    return [e for e in data.columns if data[e].nunique() == data.shape[0]]\n",
        "drop_col = remove_distinct_value_features(data)\n",
        "print(drop_col)"
      ],
      "metadata": {
        "colab": {
          "base_uri": "https://localhost:8080/"
        },
        "id": "jtzItpgxn0ZH",
        "outputId": "aa42f962-6617-4fdd-f958-3aef817c55b4"
      },
      "execution_count": null,
      "outputs": [
        {
          "output_type": "stream",
          "name": "stdout",
          "text": [
            "[]\n"
          ]
        }
      ]
    },
    {
      "cell_type": "code",
      "source": [
        "data[\"saleYear\"] = data.Year.dt.year\n",
        "data[\"saleMonth\"] = data.Year.dt.month\n",
        "data[\"saleDay\"] = data.Year.dt.day"
      ],
      "metadata": {
        "id": "YT7xQc_5teXc"
      },
      "execution_count": null,
      "outputs": []
    },
    {
      "cell_type": "code",
      "source": [
        "#X Data\n",
        "X = data.drop(['Global_Sales'], axis=1, inplace=False)\n",
        "#print('X Data is \\n' , X.head())\n",
        "#print('X shape is ' , X.shape)\n",
        "\n",
        "#y Data\n",
        "y = data['Global_Sales']\n",
        "#print('y Data is \\n' , y.head())\n",
        "#print('y shape is ' , y.shape)"
      ],
      "metadata": {
        "id": "TTIOB2TwniCL"
      },
      "execution_count": null,
      "outputs": []
    },
    {
      "cell_type": "code",
      "source": [
        "X.info()"
      ],
      "metadata": {
        "colab": {
          "base_uri": "https://localhost:8080/"
        },
        "id": "TPGP2nYPo0Xu",
        "outputId": "bbff1a2d-c889-4145-85e9-222085a7b74f"
      },
      "execution_count": null,
      "outputs": [
        {
          "output_type": "stream",
          "name": "stdout",
          "text": [
            "<class 'pandas.core.frame.DataFrame'>\n",
            "RangeIndex: 16598 entries, 0 to 16597\n",
            "Data columns (total 12 columns):\n",
            " #   Column       Non-Null Count  Dtype         \n",
            "---  ------       --------------  -----         \n",
            " 0   Name         16598 non-null  int64         \n",
            " 1   Platform     16598 non-null  int64         \n",
            " 2   Year         16598 non-null  datetime64[ns]\n",
            " 3   Genre        16598 non-null  int64         \n",
            " 4   Publisher    16598 non-null  int64         \n",
            " 5   NA_Sales     16598 non-null  float64       \n",
            " 6   EU_Sales     16598 non-null  float64       \n",
            " 7   JP_Sales     16598 non-null  float64       \n",
            " 8   Other_Sales  16598 non-null  float64       \n",
            " 9   saleYear     16598 non-null  int64         \n",
            " 10  saleMonth    16598 non-null  int64         \n",
            " 11  saleDay      16598 non-null  int64         \n",
            "dtypes: datetime64[ns](1), float64(4), int64(7)\n",
            "memory usage: 1.5 MB\n"
          ]
        }
      ]
    },
    {
      "cell_type": "code",
      "source": [
        "X.head()"
      ],
      "metadata": {
        "colab": {
          "base_uri": "https://localhost:8080/",
          "height": 206
        },
        "id": "i7sMD_nJo7sE",
        "outputId": "385d9a2b-a2dd-464e-e27d-eb3f600503a4"
      },
      "execution_count": null,
      "outputs": [
        {
          "output_type": "execute_result",
          "data": {
            "text/plain": [
              "    Name  Platform       Year  Genre  Publisher  NA_Sales  EU_Sales  JP_Sales  \\\n",
              "0  11007        26 2006-01-01     10        359     41.49     29.02      3.77   \n",
              "1   9327        11 1985-01-01      4        359     29.08      3.58      6.81   \n",
              "2   5573        26 2008-01-01      6        359     15.85     12.88      3.79   \n",
              "3  11009        26 2009-01-01     10        359     15.75     11.01      3.28   \n",
              "4   7346         5 1996-01-01      7        359     11.27      8.89     10.22   \n",
              "\n",
              "   Other_Sales  saleYear  saleMonth  saleDay  \n",
              "0         8.46      2006          1        1  \n",
              "1         0.77      1985          1        1  \n",
              "2         3.31      2008          1        1  \n",
              "3         2.96      2009          1        1  \n",
              "4         1.00      1996          1        1  "
            ],
            "text/html": [
              "\n",
              "  <div id=\"df-75a2f47c-5959-4d5c-887b-5d81287e8b45\">\n",
              "    <div class=\"colab-df-container\">\n",
              "      <div>\n",
              "<style scoped>\n",
              "    .dataframe tbody tr th:only-of-type {\n",
              "        vertical-align: middle;\n",
              "    }\n",
              "\n",
              "    .dataframe tbody tr th {\n",
              "        vertical-align: top;\n",
              "    }\n",
              "\n",
              "    .dataframe thead th {\n",
              "        text-align: right;\n",
              "    }\n",
              "</style>\n",
              "<table border=\"1\" class=\"dataframe\">\n",
              "  <thead>\n",
              "    <tr style=\"text-align: right;\">\n",
              "      <th></th>\n",
              "      <th>Name</th>\n",
              "      <th>Platform</th>\n",
              "      <th>Year</th>\n",
              "      <th>Genre</th>\n",
              "      <th>Publisher</th>\n",
              "      <th>NA_Sales</th>\n",
              "      <th>EU_Sales</th>\n",
              "      <th>JP_Sales</th>\n",
              "      <th>Other_Sales</th>\n",
              "      <th>saleYear</th>\n",
              "      <th>saleMonth</th>\n",
              "      <th>saleDay</th>\n",
              "    </tr>\n",
              "  </thead>\n",
              "  <tbody>\n",
              "    <tr>\n",
              "      <th>0</th>\n",
              "      <td>11007</td>\n",
              "      <td>26</td>\n",
              "      <td>2006-01-01</td>\n",
              "      <td>10</td>\n",
              "      <td>359</td>\n",
              "      <td>41.49</td>\n",
              "      <td>29.02</td>\n",
              "      <td>3.77</td>\n",
              "      <td>8.46</td>\n",
              "      <td>2006</td>\n",
              "      <td>1</td>\n",
              "      <td>1</td>\n",
              "    </tr>\n",
              "    <tr>\n",
              "      <th>1</th>\n",
              "      <td>9327</td>\n",
              "      <td>11</td>\n",
              "      <td>1985-01-01</td>\n",
              "      <td>4</td>\n",
              "      <td>359</td>\n",
              "      <td>29.08</td>\n",
              "      <td>3.58</td>\n",
              "      <td>6.81</td>\n",
              "      <td>0.77</td>\n",
              "      <td>1985</td>\n",
              "      <td>1</td>\n",
              "      <td>1</td>\n",
              "    </tr>\n",
              "    <tr>\n",
              "      <th>2</th>\n",
              "      <td>5573</td>\n",
              "      <td>26</td>\n",
              "      <td>2008-01-01</td>\n",
              "      <td>6</td>\n",
              "      <td>359</td>\n",
              "      <td>15.85</td>\n",
              "      <td>12.88</td>\n",
              "      <td>3.79</td>\n",
              "      <td>3.31</td>\n",
              "      <td>2008</td>\n",
              "      <td>1</td>\n",
              "      <td>1</td>\n",
              "    </tr>\n",
              "    <tr>\n",
              "      <th>3</th>\n",
              "      <td>11009</td>\n",
              "      <td>26</td>\n",
              "      <td>2009-01-01</td>\n",
              "      <td>10</td>\n",
              "      <td>359</td>\n",
              "      <td>15.75</td>\n",
              "      <td>11.01</td>\n",
              "      <td>3.28</td>\n",
              "      <td>2.96</td>\n",
              "      <td>2009</td>\n",
              "      <td>1</td>\n",
              "      <td>1</td>\n",
              "    </tr>\n",
              "    <tr>\n",
              "      <th>4</th>\n",
              "      <td>7346</td>\n",
              "      <td>5</td>\n",
              "      <td>1996-01-01</td>\n",
              "      <td>7</td>\n",
              "      <td>359</td>\n",
              "      <td>11.27</td>\n",
              "      <td>8.89</td>\n",
              "      <td>10.22</td>\n",
              "      <td>1.00</td>\n",
              "      <td>1996</td>\n",
              "      <td>1</td>\n",
              "      <td>1</td>\n",
              "    </tr>\n",
              "  </tbody>\n",
              "</table>\n",
              "</div>\n",
              "      <button class=\"colab-df-convert\" onclick=\"convertToInteractive('df-75a2f47c-5959-4d5c-887b-5d81287e8b45')\"\n",
              "              title=\"Convert this dataframe to an interactive table.\"\n",
              "              style=\"display:none;\">\n",
              "        \n",
              "  <svg xmlns=\"http://www.w3.org/2000/svg\" height=\"24px\"viewBox=\"0 0 24 24\"\n",
              "       width=\"24px\">\n",
              "    <path d=\"M0 0h24v24H0V0z\" fill=\"none\"/>\n",
              "    <path d=\"M18.56 5.44l.94 2.06.94-2.06 2.06-.94-2.06-.94-.94-2.06-.94 2.06-2.06.94zm-11 1L8.5 8.5l.94-2.06 2.06-.94-2.06-.94L8.5 2.5l-.94 2.06-2.06.94zm10 10l.94 2.06.94-2.06 2.06-.94-2.06-.94-.94-2.06-.94 2.06-2.06.94z\"/><path d=\"M17.41 7.96l-1.37-1.37c-.4-.4-.92-.59-1.43-.59-.52 0-1.04.2-1.43.59L10.3 9.45l-7.72 7.72c-.78.78-.78 2.05 0 2.83L4 21.41c.39.39.9.59 1.41.59.51 0 1.02-.2 1.41-.59l7.78-7.78 2.81-2.81c.8-.78.8-2.07 0-2.86zM5.41 20L4 18.59l7.72-7.72 1.47 1.35L5.41 20z\"/>\n",
              "  </svg>\n",
              "      </button>\n",
              "      \n",
              "  <style>\n",
              "    .colab-df-container {\n",
              "      display:flex;\n",
              "      flex-wrap:wrap;\n",
              "      gap: 12px;\n",
              "    }\n",
              "\n",
              "    .colab-df-convert {\n",
              "      background-color: #E8F0FE;\n",
              "      border: none;\n",
              "      border-radius: 50%;\n",
              "      cursor: pointer;\n",
              "      display: none;\n",
              "      fill: #1967D2;\n",
              "      height: 32px;\n",
              "      padding: 0 0 0 0;\n",
              "      width: 32px;\n",
              "    }\n",
              "\n",
              "    .colab-df-convert:hover {\n",
              "      background-color: #E2EBFA;\n",
              "      box-shadow: 0px 1px 2px rgba(60, 64, 67, 0.3), 0px 1px 3px 1px rgba(60, 64, 67, 0.15);\n",
              "      fill: #174EA6;\n",
              "    }\n",
              "\n",
              "    [theme=dark] .colab-df-convert {\n",
              "      background-color: #3B4455;\n",
              "      fill: #D2E3FC;\n",
              "    }\n",
              "\n",
              "    [theme=dark] .colab-df-convert:hover {\n",
              "      background-color: #434B5C;\n",
              "      box-shadow: 0px 1px 3px 1px rgba(0, 0, 0, 0.15);\n",
              "      filter: drop-shadow(0px 1px 2px rgba(0, 0, 0, 0.3));\n",
              "      fill: #FFFFFF;\n",
              "    }\n",
              "  </style>\n",
              "\n",
              "      <script>\n",
              "        const buttonEl =\n",
              "          document.querySelector('#df-75a2f47c-5959-4d5c-887b-5d81287e8b45 button.colab-df-convert');\n",
              "        buttonEl.style.display =\n",
              "          google.colab.kernel.accessAllowed ? 'block' : 'none';\n",
              "\n",
              "        async function convertToInteractive(key) {\n",
              "          const element = document.querySelector('#df-75a2f47c-5959-4d5c-887b-5d81287e8b45');\n",
              "          const dataTable =\n",
              "            await google.colab.kernel.invokeFunction('convertToInteractive',\n",
              "                                                     [key], {});\n",
              "          if (!dataTable) return;\n",
              "\n",
              "          const docLinkHtml = 'Like what you see? Visit the ' +\n",
              "            '<a target=\"_blank\" href=https://colab.research.google.com/notebooks/data_table.ipynb>data table notebook</a>'\n",
              "            + ' to learn more about interactive tables.';\n",
              "          element.innerHTML = '';\n",
              "          dataTable['output_type'] = 'display_data';\n",
              "          await google.colab.output.renderOutput(dataTable, element);\n",
              "          const docLink = document.createElement('div');\n",
              "          docLink.innerHTML = docLinkHtml;\n",
              "          element.appendChild(docLink);\n",
              "        }\n",
              "      </script>\n",
              "    </div>\n",
              "  </div>\n",
              "  "
            ]
          },
          "metadata": {},
          "execution_count": 51
        }
      ]
    },
    {
      "cell_type": "code",
      "source": [
        "X.drop(\"Year\",axis=1,inplace = True) "
      ],
      "metadata": {
        "id": "LTr5FuuktDBV"
      },
      "execution_count": null,
      "outputs": []
    },
    {
      "cell_type": "code",
      "source": [
        "X.info()"
      ],
      "metadata": {
        "colab": {
          "base_uri": "https://localhost:8080/"
        },
        "id": "0oWyccvetxrt",
        "outputId": "60c80d18-21e5-4c57-ecfa-ff4f8d63a4a5"
      },
      "execution_count": null,
      "outputs": [
        {
          "output_type": "stream",
          "name": "stdout",
          "text": [
            "<class 'pandas.core.frame.DataFrame'>\n",
            "RangeIndex: 16598 entries, 0 to 16597\n",
            "Data columns (total 11 columns):\n",
            " #   Column       Non-Null Count  Dtype  \n",
            "---  ------       --------------  -----  \n",
            " 0   Name         16598 non-null  int64  \n",
            " 1   Platform     16598 non-null  int64  \n",
            " 2   Genre        16598 non-null  int64  \n",
            " 3   Publisher    16598 non-null  int64  \n",
            " 4   NA_Sales     16598 non-null  float64\n",
            " 5   EU_Sales     16598 non-null  float64\n",
            " 6   JP_Sales     16598 non-null  float64\n",
            " 7   Other_Sales  16598 non-null  float64\n",
            " 8   saleYear     16598 non-null  int64  \n",
            " 9   saleMonth    16598 non-null  int64  \n",
            " 10  saleDay      16598 non-null  int64  \n",
            "dtypes: float64(4), int64(7)\n",
            "memory usage: 1.4 MB\n"
          ]
        }
      ]
    },
    {
      "cell_type": "code",
      "source": [
        "# Import Libraries\n",
        "from sklearn.preprocessing import StandardScaler\n",
        "from sklearn.model_selection import train_test_split\n",
        "#----------------------------------------------------\n",
        "\n",
        "#----------------------------------------------------\n",
        "#Standard Scaler for Data\n",
        "\n",
        "scaler = StandardScaler(copy=True, with_mean=True, with_std=True)\n",
        "X = scaler.fit_transform(X)\n",
        "\n",
        "#showing data\n",
        "#print('X \\n' , X[:10])\n",
        "#print('y \\n' , y[:10])\n",
        "\n",
        "#----------------------------------------------------\n",
        "#Splitting data\n",
        "\n",
        "X_train, X_test, y_train, y_test = train_test_split(X, y, test_size=0.33, random_state=44, shuffle =True)\n",
        "\n",
        "#Splitted Data\n",
        "#print('X_train shape is ' , X_train.shape)\n",
        "#print('X_test shape is ' , X_test.shape)\n",
        "#print('y_train shape is ' , y_train.shape)\n",
        "#print('y_test shape is ' , y_test.shape)"
      ],
      "metadata": {
        "id": "Oz-YOHPim9zA"
      },
      "execution_count": null,
      "outputs": []
    },
    {
      "cell_type": "code",
      "source": [
        "from sklearn.linear_model import LinearRegression\n",
        "from sklearn.linear_model import SGDRegressor\n",
        "from sklearn.linear_model import Lasso\n",
        "from sklearn.linear_model import Ridge\n",
        "from sklearn.ensemble import RandomForestRegressor\n",
        "from sklearn.ensemble import GradientBoostingRegressor\n",
        "from sklearn.svm import SVR\n",
        "from sklearn.tree import DecisionTreeRegressor\n",
        "from sklearn.neighbors import KNeighborsRegressor\n",
        "# Put models in a dictionary\n",
        "models = {\"LinearRegression\": LinearRegression(),\n",
        "          \"SGDRegressor \" : SGDRegressor(), \n",
        "          \"Lasso \"        : Lasso(),\n",
        "          \"Ridge \"        :  Ridge(),\n",
        "          \"Random Forest \": RandomForestRegressor(),\n",
        "          \"Gradient Boosting \": GradientBoostingRegressor(),\n",
        "          \"SVR \"          : SVR(),\n",
        "          \"DecisionTree\"  :DecisionTreeRegressor(),\n",
        "          \"KNN\"           :KNeighborsRegressor()}\n",
        "\n",
        "# Create function to fit and score models\n",
        "def fit_and_score(models, X_train, X_test, y_train, y_test):\n",
        "    \"\"\"\n",
        "    Fits and evaluates given machine learning models.\n",
        "    models : a dict of different Scikit-Learn machine learning models\n",
        "    X_train : training data\n",
        "    X_test : testing data\n",
        "    y_train : labels assosciated with training data\n",
        "    y_test : labels assosciated with test data\n",
        "    \"\"\"\n",
        "    # Random seed for reproducible results\n",
        "    np.random.seed(44)\n",
        "    # Make a list to keep model scores\n",
        "    model_scores = {}\n",
        "    # Loop through models\n",
        "    for name, model in models.items():\n",
        "        # Fit the model to the data\n",
        "        model.fit(X_train, y_train)\n",
        "        # Evaluate the model and append its score to model_scores\n",
        "        model_scores[name] = model.score(X_test, y_test)\n",
        "    return model_scores\n",
        "\n",
        "model_scores = fit_and_score(models=models,\n",
        "                             X_train=X_train,\n",
        "                             X_test=X_test,\n",
        "                             y_train=y_train,\n",
        "                             y_test=y_test)\n",
        "print(np.array(model_scores))\n",
        "\n",
        "#Model Comparison\n",
        "model_compare = pd.DataFrame(model_scores, index=['accuracy'])\n",
        "model_compare.T.plot.bar();\n"
      ],
      "metadata": {
        "colab": {
          "base_uri": "https://localhost:8080/",
          "height": 398
        },
        "id": "E4PRf2I2nZX9",
        "outputId": "2e88721b-bddf-40a2-9a4e-d4a9a876b989"
      },
      "execution_count": null,
      "outputs": [
        {
          "output_type": "stream",
          "name": "stdout",
          "text": [
            "{'LinearRegression': 0.3215588486330788, 'SGDRegressor ': 0.21555226839240127, 'Lasso ': -0.000282249497107534, 'Ridge ': 0.32156161754836365, 'Random Forest ': 0.9943549112568308, 'Gradient Boosting ': 0.9933336990560069, 'SVR ': 0.8836255654032424, 'DecisionTree': 0.9890278165510806, 'KNN': 0.7517786596058554}\n"
          ]
        },
        {
          "output_type": "display_data",
          "data": {
            "text/plain": [
              "<Figure size 432x288 with 1 Axes>"
            ],
            "image/png": "[encoded data removed]"
          },
          "metadata": {
            "needs_background": "light"
          }
        }
      ]
    },
    {
      "cell_type": "code",
      "source": [
        "#Import Libraries\n",
        "from sklearn.ensemble import GradientBoostingRegressor\n",
        "#----------------------------------------------------\n",
        "\n",
        "#----------------------------------------------------\n",
        "#Applying Gradient Boosting Regressor Model \n",
        "\n",
        "'''\n",
        "sklearn.ensemble.GradientBoostingRegressor(loss='ls’, learning_rate=0.1,n_estimators=100, subsample=\n",
        "                                           1.0, criterion='friedman_mse’,min_samples_split=2,min_samples_leaf=1,\n",
        "                                           min_weight_fraction_leaf=0.0,max_depth=3,min_impurity_decrease=0.0,\n",
        "                                           min_impurity_split=None,init=None, random_state=None,max_features=None, alpha=0.9,\n",
        "                                           verbose=0, max_leaf_nodes=None,warm_start=False, presort='auto'\n",
        "                                           , validation_fraction=0.1,n_iter_no_change=None, tol=0.0001)\n",
        "'''\n",
        "\n",
        "GBRModel = GradientBoostingRegressor(n_estimators=100,max_depth=2,learning_rate = 1.5 ,random_state=33)\n",
        "GBRModel.fit(X_train, y_train)\n",
        "\n",
        "#Calculating Details\n",
        "print('GBRModel Train Score is : ' , GBRModel.score(X_train, y_train))\n",
        "print('GBRModel Test Score is : ' , GBRModel.score(X_test, y_test))\n",
        "#print('----------------------------------------------------')\n",
        "\n",
        "#Calculating Prediction\n",
        "y_pred = GBRModel.predict(X_test)\n"
      ],
      "metadata": {
        "colab": {
          "base_uri": "https://localhost:8080/"
        },
        "id": "NTv-qoC0uoT7",
        "outputId": "637ad986-2195-44c5-b073-e0db13768124"
      },
      "execution_count": null,
      "outputs": [
        {
          "output_type": "stream",
          "name": "stdout",
          "text": [
            "GBRModel Train Score is :  0.9873357633934505\n",
            "GBRModel Test Score is :  0.9857754345683716\n"
          ]
        }
      ]
    },
    {
      "cell_type": "code",
      "source": [
        "print(\"The Real Value Is    :\",np.array(y_test[:10]))\n",
        "print(\"=====================================================================================\")\n",
        "print(\"The Predect Value Is :\" ,y_pred[:10])"
      ],
      "metadata": {
        "colab": {
          "base_uri": "https://localhost:8080/"
        },
        "id": "0bZOxvprvGyi",
        "outputId": "139baf3c-b32f-4af4-ea8d-cab45b6e237d"
      },
      "execution_count": null,
      "outputs": [
        {
          "output_type": "stream",
          "name": "stdout",
          "text": [
            "The Real Value Is    : [-1.89711998 -0.34249031 -0.63487827 -2.81341072 -2.52572864 -1.60943791\n",
            " -0.28768207 -2.65926004 -1.02165125 -2.81341072]\n",
            "=====================================================================================\n",
            "The Predect Value Is : [-1.63990611 -0.41096565 -0.62962597 -2.78767284 -2.45962432 -1.72058765\n",
            " -0.16761112 -2.80769985 -0.9239358  -2.74290463]\n"
          ]
        }
      ]
    },
    {
      "cell_type": "code",
      "source": [
        "#Import Libraries\n",
        "from sklearn.metrics import mean_absolute_error \n",
        "from sklearn.metrics import mean_squared_error \n",
        "from sklearn.metrics import median_absolute_error\n",
        "#----------------------------------------------------\n",
        "\n",
        "#----------------------------------------------------\n",
        "#Calculating Mean Absolute Error\n",
        "MAEValue = mean_absolute_error(y_test, y_pred, multioutput='uniform_average') # it can be raw_values\n",
        "print('Mean Absolute Error Value is : ', MAEValue)\n",
        "\n",
        "#----------------------------------------------------\n",
        "#Calculating Mean Squared Error\n",
        "MSEValue = mean_squared_error(y_test, y_pred, multioutput='uniform_average') # it can be raw_values\n",
        "print('Mean Squared Error Value is : ', MSEValue)\n",
        "\n",
        "#----------------------------------------------------\n",
        "#Calculating Median Absolute Error\n",
        "MdSEValue = median_absolute_error(y_test, y_pred)\n",
        "print('Median Absolute Error Value is : ', MdSEValue )"
      ],
      "metadata": {
        "colab": {
          "base_uri": "https://localhost:8080/"
        },
        "id": "n_NRGyaUwPE6",
        "outputId": "9cb6cc1a-5f41-4071-cdc5-72cb785f715a"
      },
      "execution_count": null,
      "outputs": [
        {
          "output_type": "stream",
          "name": "stdout",
          "text": [
            "Mean Absolute Error Value is :  0.11716626619594409\n",
            "Mean Squared Error Value is :  0.029975907809753025\n",
            "Median Absolute Error Value is :  0.07697704057918209\n"
          ]
        }
      ]
    },
    {
      "cell_type": "code",
      "source": [
        "import pickle\n",
        "# Save an extisting model to file\n",
        "pickle.dump(GBRModel, open(\"GBRModel1.pkl\", \"wb\"))\n",
        "# Load a saved model\n",
        "loaded_pickle_model = pickle.load(open(\"GBRModel1.pkl\", \"rb\"))\n",
        "print(loaded_pickle_model.score(X_test,y_test))\n"
      ],
      "metadata": {
        "colab": {
          "base_uri": "https://localhost:8080/"
        },
        "id": "Ta9KDVh-yj-V",
        "outputId": "12da94f6-cfc4-4f09-da1d-813005f1d2ce"
      },
      "execution_count": null,
      "outputs": [
        {
          "output_type": "stream",
          "name": "stdout",
          "text": [
            "0.9866332888802243\n"
          ]
        }
      ]
    },
    {
      "cell_type": "code",
      "source": [
        ""
      ],
      "metadata": {
        "id": "4oc8oTOJwpkX"
      },
      "execution_count": null,
      "outputs": []
    }
  ],
  "metadata": {
    "colab": {
      "collapsed_sections": [],
      "name": "Video-Game-Sales.ipynb",
      "provenance": []
    },
    "kernelspec": {
      "display_name": "Python 3",
      "name": "python3"
    }
  },
  "nbformat": 4,
  "nbformat_minor": 0
}